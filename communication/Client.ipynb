{
 "cells": [
  {
   "cell_type": "code",
   "execution_count": 16,
   "metadata": {},
   "outputs": [],
   "source": [
    "import socket\n",
    "import os\n",
    "import json\n",
    "import  time\n",
    "import tensorflow as tf\n",
    "import numpy as np\n",
    "\n",
    "from Config import Config\n",
    "import Util"
   ]
  },
  {
   "cell_type": "code",
   "execution_count": 17,
   "metadata": {},
   "outputs": [],
   "source": [
    "class Client:\n",
    "    def __init__(self,cfg):\n",
    "        self.cfg = cfg\n",
    "        # self.s = socket.socket(socket.AF_INET,socket.SOCK_STREAM)\n",
    "        self.connect_to_server()\n",
    "\n",
    "    def connect_to_server(self):\n",
    "        # self.s.connect((self.cfg.server_ip,int(self.cfg.server_port)))\n",
    "        # self.main()\n",
    "        print(\"\")\n",
    "\n",
    "    def reconnect(self):\n",
    "        self.s = socket.socket(socket.AF_INET,socket.SOCK_STREAM)\n",
    "        self.s.connect((self.cfg.server_ip,int(self.cfg.server_port)))\n",
    "\n",
    "    def send_data(self,data_info, data_buffer):\n",
    "        self.s = socket.socket(socket.AF_INET,socket.SOCK_STREAM)\n",
    "        self.s.connect((self.cfg.server_ip,int(self.cfg.server_port)))\n",
    "        self.s.send(data_info.encode())\n",
    "\n",
    "        confirmation = self.s.recv(1024)\n",
    "        if confirmation.decode() == \"OK\":\n",
    "            print('Sending data')\n",
    "            self.s.sendall(data_buffer)\n",
    "\n",
    "            print(file_name,'successfully sent.')\n",
    "\n",
    "            self.s.shutdown(socket.SHUT_RDWR)\n",
    "            self.s.close()\n",
    "            # self.reconnect()\n",
    "        else:\n",
    "            print(\"Received error from server, %s\" % (confirmation.decode()))"
   ]
  },
  {
   "cell_type": "code",
   "execution_count": 18,
   "metadata": {},
   "outputs": [
    {
     "name": "stdout",
     "output_type": "stream",
     "text": [
      "In WSL\n",
      "\n"
     ]
    }
   ],
   "source": [
    "cfg = Config()\n",
    "client = Client(cfg)\n",
    "file_name = '/home/suphale/WorkSpace/000000350497.jpg'"
   ]
  },
  {
   "cell_type": "code",
   "execution_count": 19,
   "metadata": {},
   "outputs": [],
   "source": [
    "if False:\n",
    "    with open(file_name, 'rb') as file_t:\n",
    "        blob_data = bytearray(file_t.read())\n",
    "        send_json_dict = {}\n",
    "        send_json_dict['data_type'] = 'file'\n",
    "        send_json_dict['file_name'] = file_name\n",
    "        send_json_dict['data_size'] = (len(blob_data))\n",
    "        # send_json_dict['data_buffer'] = blob_data\n",
    "        app_json = json.dumps(send_json_dict)\n",
    "        print(str(app_json))\n",
    "\n",
    "        t0= time.perf_counter()\n",
    "        client.send_data(str(app_json), blob_data)\n",
    "        t1 = time.perf_counter() - t0\n",
    "\n",
    "        print(\"Time to send file: %.3f\" % (t1))\n",
    "\n"
   ]
  },
  {
   "cell_type": "code",
   "execution_count": 20,
   "metadata": {},
   "outputs": [],
   "source": [
    "data_buffer,caption = Util.read_image(file_name,'')\n"
   ]
  },
  {
   "cell_type": "code",
   "execution_count": 21,
   "metadata": {},
   "outputs": [],
   "source": [
    "# tf.compat.v1.disable_eager_execution()"
   ]
  },
  {
   "cell_type": "code",
   "execution_count": 22,
   "metadata": {},
   "outputs": [
    {
     "name": "stdout",
     "output_type": "stream",
     "text": [
      "type of image_tensor = <class 'tensorflow.python.framework.ops.EagerTensor'>\n",
      "shape of image_tensor = (299, 299, 3)\n",
      "size of image_tensor = tf.Tensor(268203, shape=(), dtype=int32)\n",
      "type of image_tensor = <dtype: 'float32'>\n"
     ]
    }
   ],
   "source": [
    "image_tensor,caption = Util.read_image(file_name,'')\n",
    "\n",
    "print(\"type of image_tensor = %s\" % (str(type(image_tensor))))\n",
    "print(\"shape of image_tensor = %s\" % (str(image_tensor.shape)))\n",
    "print(\"size of image_tensor = %s\" % (str(tf.size(image_tensor))))\n",
    "print(\"type of image_tensor = %s\" % (str(image_tensor.dtype)))\n"
   ]
  },
  {
   "cell_type": "code",
   "execution_count": 23,
   "metadata": {},
   "outputs": [
    {
     "name": "stdout",
     "output_type": "stream",
     "text": [
      "shape of image_np_array = (299, 299, 3)\n"
     ]
    },
    {
     "data": {
      "text/plain": [
       "bytes"
      ]
     },
     "execution_count": 23,
     "metadata": {},
     "output_type": "execute_result"
    }
   ],
   "source": [
    "image_np_array = image_tensor.numpy()\n",
    "print(\"shape of image_np_array = %s\" % (str(image_np_array.shape)))\n",
    "\n",
    "byte_buffer_to_send = image_np_array.tobytes()\n",
    "type(byte_buffer_to_send)\n",
    "\n"
   ]
  },
  {
   "cell_type": "code",
   "execution_count": 24,
   "metadata": {},
   "outputs": [
    {
     "data": {
      "text/plain": [
       "bytes"
      ]
     },
     "execution_count": 24,
     "metadata": {},
     "output_type": "execute_result"
    }
   ],
   "source": [
    "type(byte_buffer_to_send)"
   ]
  },
  {
   "cell_type": "code",
   "execution_count": 25,
   "metadata": {},
   "outputs": [
    {
     "name": "stdout",
     "output_type": "stream",
     "text": [
      "float32\n"
     ]
    }
   ],
   "source": [
    "ddtype = image_np_array.dtype\n",
    "print(ddtype)"
   ]
  },
  {
   "cell_type": "code",
   "execution_count": 26,
   "metadata": {},
   "outputs": [
    {
     "name": "stdout",
     "output_type": "stream",
     "text": [
      "{\"data_type\": \"data\", \"file_name\": \"/home/suphale/WorkSpace/000000350497.jpg\", \"data_size\": 1072812, \"data_shape\": [299, 299, 3]}\n",
      "Sending data\n",
      "/home/suphale/WorkSpace/000000350497.jpg successfully sent.\n",
      "Time to send data: 0.004\n"
     ]
    }
   ],
   "source": [
    "\n",
    "send_json_dict = {}\n",
    "send_json_dict['data_type'] = 'data'\n",
    "send_json_dict['file_name'] = file_name\n",
    "send_json_dict['data_size'] = (len(byte_buffer_to_send))\n",
    "send_json_dict['data_shape'] = image_np_array.shape\n",
    "\n",
    "# send_json_dict['data_buffer'] = blob_data\n",
    "app_json = json.dumps(send_json_dict)\n",
    "print(str(app_json))\n",
    "\n",
    "t0= time.perf_counter()\n",
    "client.send_data(str(app_json), byte_buffer_to_send)\n",
    "t1 = time.perf_counter() - t0\n",
    "\n",
    "print(\"Time to send data: %.3f\" % (t1))\n"
   ]
  },
  {
   "cell_type": "code",
   "execution_count": null,
   "metadata": {},
   "outputs": [],
   "source": []
  }
 ],
 "metadata": {
  "interpreter": {
   "hash": "53d8a323e6010706682c07af791323eacfc072764aa514c33420848fded080be"
  },
  "kernelspec": {
   "display_name": "Python 3.7.3 64-bit ('py373': conda)",
   "name": "python3"
  },
  "language_info": {
   "codemirror_mode": {
    "name": "ipython",
    "version": 3
   },
   "file_extension": ".py",
   "mimetype": "text/x-python",
   "name": "python",
   "nbconvert_exporter": "python",
   "pygments_lexer": "ipython3",
   "version": "3.7.3"
  },
  "orig_nbformat": 4
 },
 "nbformat": 4,
 "nbformat_minor": 2
}