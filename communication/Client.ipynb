{
 "cells": [
  {
   "cell_type": "code",
   "execution_count": null,
   "metadata": {},
   "outputs": [],
   "source": [
    "#!/usr/bin/env python3"
   ]
  },
  {
   "cell_type": "code",
   "execution_count": null,
   "metadata": {},
   "outputs": [],
   "source": [
    "import socket\n",
    "import os\n",
    "import json\n",
    "import  time\n",
    "import tensorflow as tf\n",
    "import numpy as np\n",
    "from   nltk.translate.bleu_score import sentence_bleu\n",
    "import random\n",
    "import  re\n",
    "import sys\n",
    "import argparse\n",
    "\n",
    "from   Config import Config\n",
    "import Util\n",
    "import Logger\n",
    "from   Communication import Client\n",
    "from ImagesInfo import ImagesInfo\n",
    "from TimeKeeper import TimeKeeper"
   ]
  },
  {
   "cell_type": "code",
   "execution_count": null,
   "metadata": {},
   "outputs": [],
   "source": [
    "parser = argparse.ArgumentParser()\n",
    "parser.add_argument('-s', '--server', action='store', type=str, required=False)\n",
    "args, unknown = parser.parse_known_args()\n",
    "print(args.server)\n",
    "\n",
    "server_ip = args.server"
   ]
  },
  {
   "cell_type": "code",
   "execution_count": null,
   "metadata": {},
   "outputs": [],
   "source": [
    "tk = TimeKeeper()\n",
    "cfg = Config(server_ip)\n",
    "client = Client(cfg)\n",
    "imagesInfo = ImagesInfo(cfg)\n"
   ]
  },
  {
   "cell_type": "code",
   "execution_count": null,
   "metadata": {},
   "outputs": [],
   "source": [
    "if False:\n",
    "    with open(file_name, 'rb') as file_t:\n",
    "        blob_data = bytearray(file_t.read())\n",
    "        send_json_dict = {}\n",
    "        send_json_dict['data_type'] = 'file'\n",
    "        send_json_dict['file_name'] = file_name\n",
    "        send_json_dict['data_size'] = (len(blob_data))\n",
    "        # send_json_dict['data_buffer'] = blob_data\n",
    "        app_json = json.dumps(send_json_dict)\n",
    "        print(str(app_json))\n",
    "\n",
    "        t0= time.perf_counter()\n",
    "        client.send_data(str(app_json), blob_data)\n",
    "        t1 = time.perf_counter() - t0\n",
    "\n",
    "        print(\"Time to send file: %.3f\" % (t1))\n",
    "def evaluate_file_over_server(file_name):\n",
    "    with open(file_name, 'rb') as file_t:\n",
    "        byte_buffer_to_send = bytearray(file_t.read())\n",
    "        send_json_dict = {}\n",
    "        send_json_dict['data_type'] = 'file'\n",
    "        send_json_dict['file_name'] = file_name\n",
    "        send_json_dict['data_size'] = (len(byte_buffer_to_send))\n",
    "        send_json_dict['data_shape'] = \"(%d,)\" % (len(byte_buffer_to_send))\n",
    "        # send_json_dict['data_buffer'] = blob_data\n",
    "\n",
    "        app_json = json.dumps(send_json_dict)\n",
    "\n",
    "        tk.logInfo(img_path, tk.I_BUFFER_SIZE, len(byte_buffer_to_send))\n",
    "\n",
    "        tk.logTime(img_path, tk.E_START_COMMUNICATION)\n",
    "\n",
    "        pred_caption = client.send_data(str(app_json), byte_buffer_to_send)\n",
    "\n",
    "        tk.logTime(img_path, tk.E_STOP_COMMUNICATION)\n",
    "\n",
    "        return pred_caption, [], []"
   ]
  },
  {
   "cell_type": "code",
   "execution_count": null,
   "metadata": {},
   "outputs": [],
   "source": [
    "# tf.compat.v1.disable_eager_execution()"
   ]
  },
  {
   "cell_type": "code",
   "execution_count": null,
   "metadata": {},
   "outputs": [],
   "source": [
    "def evaluate_over_server(file_name):\n",
    "    image_tensor,caption = Util.read_image(file_name,'')\n",
    "\n",
    "    image_np_array = image_tensor.numpy()\n",
    "\n",
    "    byte_buffer_to_send = image_np_array.tobytes()\n",
    "    type(byte_buffer_to_send)\n",
    "\n",
    "    send_json_dict = {}\n",
    "    send_json_dict['data_type'] = 'data'\n",
    "    send_json_dict['file_name'] = file_name\n",
    "    send_json_dict['data_size'] = (len(byte_buffer_to_send))\n",
    "    send_json_dict['data_shape'] = image_np_array.shape\n",
    "\n",
    "    app_json = json.dumps(send_json_dict)\n",
    "\n",
    "    tk.logInfo(img_path, tk.I_BUFFER_SIZE, len(byte_buffer_to_send))\n",
    "\n",
    "    tk.logTime(img_path, tk.E_START_COMMUNICATION)\n",
    "\n",
    "    pred_caption = client.send_data(str(app_json), byte_buffer_to_send)\n",
    "\n",
    "    tk.logTime(img_path, tk.E_STOP_COMMUNICATION)\n",
    "\n",
    "    return pred_caption, [], []"
   ]
  },
  {
   "cell_type": "code",
   "execution_count": null,
   "metadata": {},
   "outputs": [],
   "source": [
    "\n",
    "total_time = 0.0\n",
    "max_test_images = cfg.total_test_images\n",
    "for i in range(max_test_images):\n",
    "    print(\"\")\n",
    "    random_num = random.randint(0,max_test_images-1)\n",
    "    img_path = imagesInfo.getImagePath(random_num)\n",
    "    # image = io.imread(img_path)\n",
    "    # plt.imshow(image)\n",
    "\n",
    "    real_caption = imagesInfo.getCaption(random_num)\n",
    "\n",
    "    tk.startRecord(img_path)\n",
    "    tk.logTime(img_path, tk.E_START_CLIENT_PROCESSING)\n",
    "\n",
    "    # pred_caption, attention_plot,pred_test = evaluate_over_server(img_path)\n",
    "    pred_caption, attention_plot,pred_test = evaluate_file_over_server(img_path)\n",
    "\n",
    "    tk.logTime(img_path, tk.E_STOP_CLIENT_PROCESSING)\n",
    "\n",
    "    real_caption=Util.filt_text(real_caption)      \n",
    "\n",
    "    reference = imagesInfo.getAllCaptions(img_path)\n",
    "    candidate = pred_caption.split()\n",
    "\n",
    "    score = sentence_bleu(reference, candidate, weights=[1]) #set your weights)\n",
    "\n",
    "    tk.logInfo(img_path, tk.I_BLEU, score)\n",
    "    tk.logInfo(img_path, tk.I_REAL_CAPTION, real_caption)\n",
    "    tk.logInfo(img_path, tk.I_PRED_CAPTION, pred_caption)\n",
    "    tk.finishRecord(img_path)\n",
    "\n",
    "    print(\"BLEU: %.2f\" % (score))\n",
    "    print ('Real:', real_caption)\n",
    "    print ('Pred:', pred_caption)\n",
    "\n",
    "tk.printAll()\n",
    "tk.summary()\n",
    "\n"
   ]
  },
  {
   "cell_type": "code",
   "execution_count": null,
   "metadata": {},
   "outputs": [],
   "source": []
  }
 ],
 "metadata": {
  "interpreter": {
   "hash": "53d8a323e6010706682c07af791323eacfc072764aa514c33420848fded080be"
  },
  "kernelspec": {
   "display_name": "Python 3.7.3 64-bit ('py373': conda)",
   "name": "python3"
  },
  "language_info": {
   "codemirror_mode": {
    "name": "ipython",
    "version": 3
   },
   "file_extension": ".py",
   "mimetype": "text/x-python",
   "name": "python",
   "nbconvert_exporter": "python",
   "pygments_lexer": "ipython3",
   "version": "3.7.3"
  },
  "orig_nbformat": 4
 },
 "nbformat": 4,
 "nbformat_minor": 2
}