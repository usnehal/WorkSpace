{
 "cells": [
  {
   "cell_type": "code",
   "execution_count": 6,
   "metadata": {},
   "outputs": [],
   "source": [
    "import socket\n",
    "import os\n",
    "import json\n",
    "import  time\n",
    "\n",
    "from Config import Config\n",
    "import Util"
   ]
  },
  {
   "cell_type": "code",
   "execution_count": 7,
   "metadata": {},
   "outputs": [],
   "source": [
    "class Client:\n",
    "    def __init__(self,cfg):\n",
    "        self.cfg = cfg\n",
    "        # self.s = socket.socket(socket.AF_INET,socket.SOCK_STREAM)\n",
    "        self.connect_to_server()\n",
    "\n",
    "    def connect_to_server(self):\n",
    "        # self.s.connect((self.cfg.server_ip,int(self.cfg.server_port)))\n",
    "        # self.main()\n",
    "        print(\"\")\n",
    "\n",
    "    def reconnect(self):\n",
    "        self.s = socket.socket(socket.AF_INET,socket.SOCK_STREAM)\n",
    "        self.s.connect((self.cfg.server_ip,int(self.cfg.server_port)))\n",
    "\n",
    "    def send_data(self,data_info, data_buffer):\n",
    "        self.s = socket.socket(socket.AF_INET,socket.SOCK_STREAM)\n",
    "        self.s.connect((self.cfg.server_ip,int(self.cfg.server_port)))\n",
    "        self.s.send(data_info.encode())\n",
    "\n",
    "        confirmation = self.s.recv(1024)\n",
    "        if confirmation.decode() == \"OK\":\n",
    "            print('Sending data')\n",
    "            self.s.sendall(data_buffer)\n",
    "\n",
    "            print(file_name,'successfully sent.')\n",
    "\n",
    "            self.s.shutdown(socket.SHUT_RDWR)\n",
    "            self.s.close()\n",
    "            # self.reconnect()\n",
    "        else:\n",
    "            print(\"Received error from server, %s\" % (confirmation.decode()))"
   ]
  },
  {
   "cell_type": "code",
   "execution_count": 8,
   "metadata": {},
   "outputs": [
    {
     "name": "stdout",
     "output_type": "stream",
     "text": [
      "In WSL\n",
      "\n"
     ]
    }
   ],
   "source": [
    "cfg = Config()\n",
    "client = Client(cfg)\n",
    "file_name = '/home/suphale/WorkSpace/000000350497.jpg'"
   ]
  },
  {
   "cell_type": "code",
   "execution_count": null,
   "metadata": {},
   "outputs": [],
   "source": []
  },
  {
   "cell_type": "code",
   "execution_count": 9,
   "metadata": {},
   "outputs": [
    {
     "name": "stdout",
     "output_type": "stream",
     "text": [
      "{\"data_type\": \"file\", \"file_name\": \"/home/suphale/WorkSpace/000000350497.jpg\", \"data_size\": 106858}\n",
      "Sending data\n",
      "/home/suphale/WorkSpace/000000350497.jpg successfully sent.\n",
      "Time to send file: 0.007\n"
     ]
    }
   ],
   "source": [
    "with open(file_name, 'rb') as file_t:\n",
    "    blob_data = bytearray(file_t.read())\n",
    "    send_json_dict = {}\n",
    "    send_json_dict['data_type'] = 'file'\n",
    "    send_json_dict['file_name'] = file_name\n",
    "    send_json_dict['data_size'] = (len(blob_data))\n",
    "    # send_json_dict['data_buffer'] = blob_data\n",
    "    app_json = json.dumps(send_json_dict)\n",
    "    print(str(app_json))\n",
    "\n",
    "    t0= time.perf_counter()\n",
    "    client.send_data(str(app_json), blob_data)\n",
    "    t1 = time.perf_counter() - t0\n",
    "\n",
    "    print(\"Time to send file: %.3f\" % (t1))\n",
    "\n"
   ]
  },
  {
   "cell_type": "code",
   "execution_count": 10,
   "metadata": {},
   "outputs": [
    {
     "name": "stdout",
     "output_type": "stream",
     "text": [
      "{\"data_type\": \"data\", \"file_name\": \"/home/suphale/WorkSpace/000000350497.jpg\", \"data_size\": 299}\n",
      "Sending data\n",
      "/home/suphale/WorkSpace/000000350497.jpg successfully sent.\n",
      "Time to send data: 0.011\n"
     ]
    }
   ],
   "source": [
    "data_buffer,caption = Util.read_image(file_name,'')\n",
    "send_json_dict = {}\n",
    "send_json_dict['data_type'] = 'data'\n",
    "send_json_dict['file_name'] = file_name\n",
    "send_json_dict['data_size'] = (len(data_buffer))\n",
    "# send_json_dict['data_buffer'] = blob_data\n",
    "app_json = json.dumps(send_json_dict)\n",
    "print(str(app_json))\n",
    "\n",
    "t0= time.perf_counter()\n",
    "client.send_data(str(app_json), data_buffer)\n",
    "t1 = time.perf_counter() - t0\n",
    "\n",
    "print(\"Time to send data: %.3f\" % (t1))\n"
   ]
  },
  {
   "cell_type": "code",
   "execution_count": null,
   "metadata": {},
   "outputs": [],
   "source": []
  }
 ],
 "metadata": {
  "interpreter": {
   "hash": "53d8a323e6010706682c07af791323eacfc072764aa514c33420848fded080be"
  },
  "kernelspec": {
   "display_name": "Python 3.7.3 64-bit ('py373': conda)",
   "name": "python3"
  },
  "language_info": {
   "codemirror_mode": {
    "name": "ipython",
    "version": 3
   },
   "file_extension": ".py",
   "mimetype": "text/x-python",
   "name": "python",
   "nbconvert_exporter": "python",
   "pygments_lexer": "ipython3",
   "version": "3.7.3"
  },
  "orig_nbformat": 4
 },
 "nbformat": 4,
 "nbformat_minor": 2
}