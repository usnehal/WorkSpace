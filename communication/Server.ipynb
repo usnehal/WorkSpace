{
 "cells": [
  {
   "cell_type": "code",
   "execution_count": 1,
   "metadata": {},
   "outputs": [],
   "source": [
    "import socket\n",
    "import threading\n",
    "import os\n",
    "import json\n",
    "\n",
    "from Config import Config"
   ]
  },
  {
   "cell_type": "code",
   "execution_count": 2,
   "metadata": {},
   "outputs": [],
   "source": [
    "class Server:\n",
    "    def __init__(self,cfg):\n",
    "        self.cfg = cfg\n",
    "        self.s = socket.socket(socket.AF_INET,socket.SOCK_STREAM)\n",
    "        self.accept_connections()\n",
    "    \n",
    "    def accept_connections(self):\n",
    "        ip = '' \n",
    "        port = self.cfg.server_port\n",
    "\n",
    "        print('Running on IP: '+ip)\n",
    "        print('Running on port: '+str(port))\n",
    "\n",
    "        self.s.bind((ip,port))\n",
    "        self.s.listen(100)\n",
    "\n",
    "        while 1:\n",
    "            c, addr = self.s.accept()\n",
    "            print(c)\n",
    "\n",
    "            threading.Thread(target=self.handle_client,args=(c,addr,)).start()\n",
    "\n",
    "    def handle_client(self,c,addr):\n",
    "        received_data = c.recv(1024).decode()\n",
    "        print(\"received_data=\"+received_data)\n",
    "        obj = json.loads(received_data)\n",
    "        print(obj)\n",
    "        c.send(\"OK\".encode())\n",
    "\n",
    "        write_name = 'test' + '.recd'\n",
    "        if os.path.exists(write_name): os.remove(write_name)\n",
    "\n",
    "        with open(write_name,'wb') as file:\n",
    "            while 1:\n",
    "                data = c.recv(1024)\n",
    "                if not data:\n",
    "                    break\n",
    "                file.write(data)\n",
    "            file.close()\n",
    "        print(write_name,'successfully downloaded.')\n"
   ]
  },
  {
   "cell_type": "code",
   "execution_count": 3,
   "metadata": {},
   "outputs": [
    {
     "name": "stdout",
     "output_type": "stream",
     "text": [
      "In WSL\n",
      "Running on IP: \n",
      "Running on port: 5001\n",
      "<socket.socket fd=45, family=AddressFamily.AF_INET, type=SocketKind.SOCK_STREAM, proto=0, laddr=('127.0.0.1', 5001), raddr=('127.0.0.1', 51366)>\n",
      "received_data={\"data_type\": \"file\", \"file_name\": \"/home/suphale/WorkSpace/000000350497.jpg\", \"data_size\": 106858}\n",
      "{'data_type': 'file', 'file_name': '/home/suphale/WorkSpace/000000350497.jpg', 'data_size': 106858}\n",
      "test.recd successfully downloaded.\n"
     ]
    }
   ],
   "source": [
    "cfg = Config()\n",
    "server = Server(cfg)"
   ]
  },
  {
   "cell_type": "code",
   "execution_count": null,
   "metadata": {},
   "outputs": [],
   "source": []
  }
 ],
 "metadata": {
  "interpreter": {
   "hash": "31f2aee4e71d21fbe5cf8b01ff0e069b9275f58929596ceb00d14d90e3e16cd6"
  },
  "kernelspec": {
   "display_name": "Python 3.8.5 64-bit",
   "name": "python3"
  },
  "language_info": {
   "codemirror_mode": {
    "name": "ipython",
    "version": 3
   },
   "file_extension": ".py",
   "mimetype": "text/x-python",
   "name": "python",
   "nbconvert_exporter": "python",
   "pygments_lexer": "ipython3",
   "version": "3.7.3"
  },
  "orig_nbformat": 4
 },
 "nbformat": 4,
 "nbformat_minor": 2
}