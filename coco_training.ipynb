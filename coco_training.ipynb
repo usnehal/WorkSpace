{
 "cells": [
  {
   "cell_type": "code",
   "execution_count": 1,
   "source": [
    "#!pip install --upgrade git+https://github.com/EmGarr/kerod.git"
   ],
   "outputs": [],
   "metadata": {
    "id": "1jVKNjhdLFUQ"
   }
  },
  {
   "cell_type": "code",
   "execution_count": 2,
   "source": [
    "#%tensorflow_version 2.x\n",
    "import tensorflow as tf\n",
    "device_name = tf.test.gpu_device_name()\n",
    "if device_name != '/device:GPU:0':\n",
    "    print('GPU device not found')\n",
    "else:\n",
    "    print('Found GPU at: {}'.format(device_name))"
   ],
   "outputs": [
    {
     "output_type": "stream",
     "name": "stdout",
     "text": [
      "GPU device not found\n"
     ]
    }
   ],
   "metadata": {
    "id": "CET-72i5EmKn"
   }
  },
  {
   "cell_type": "code",
   "execution_count": 3,
   "source": [
    "import warnings\n",
    "warnings.filterwarnings('ignore')"
   ],
   "outputs": [],
   "metadata": {}
  },
  {
   "cell_type": "code",
   "execution_count": 4,
   "source": [
    "import  functools\n",
    "import  tensorflow as tf\n",
    "import  tensorflow_datasets as tfds\n",
    "from    tensorflow.keras.utils import to_categorical\n",
    "import  matplotlib.pyplot as plt\n",
    "from    tensorflow.keras import layers\n",
    "from    tensorflow.keras.callbacks import TensorBoard, ModelCheckpoint\n",
    "from tensorflow.keras.layers import Dense, GlobalAveragePooling2D\n",
    "\n",
    "\n"
   ],
   "outputs": [],
   "metadata": {}
  },
  {
   "cell_type": "code",
   "execution_count": 5,
   "source": [
    "data_dir='/home/suphale/coco'\n",
    "N_LABELS = 80\n",
    "N_EPOCHS = 1\n",
    "TRAIN_MODE = False\n",
    "split_train = \"train[:1%]\"\n",
    "split_val = \"validation[:1%]\"\n",
    "h_image_height = 299\n",
    "h_image_width = 299\n"
   ],
   "outputs": [],
   "metadata": {}
  },
  {
   "cell_type": "code",
   "execution_count": 6,
   "source": [
    "class BoxField:\n",
    "    BOXES = 'bbox'\n",
    "    KEYPOINTS = 'keypoints'\n",
    "    LABELS = 'label'\n",
    "    MASKS = 'masks'\n",
    "    NUM_BOXES = 'num_boxes'\n",
    "    SCORES = 'scores'\n",
    "    WEIGHTS = 'weights'\n",
    "\n",
    "class DatasetField:\n",
    "    IMAGES = 'images'\n",
    "    IMAGES_INFO = 'images_information'\n",
    "    IMAGES_PMASK = 'images_padding_mask'\n",
    "\n",
    "def my_preprocess(inputs):\n",
    "    image = inputs['image']\n",
    "    image = tf.image.resize(image, (h_image_height, h_image_width))\n",
    "    image = tf.cast(image, tf.float32)\n",
    "    image /= 127.5\n",
    "    image -= 1.\n",
    "\n",
    "    targets = inputs['objects']\n",
    "\n",
    "    image_information = tf.cast(tf.shape(image)[:2], dtype=tf.float32)\n",
    "\n",
    "    inputs = {DatasetField.IMAGES: image, DatasetField.IMAGES_INFO: image_information}\n",
    "\n",
    "    # ground_truths = {\n",
    "    #     BoxField.BOXES: targets[BoxField.BOXES] * tf.tile(image_information[tf.newaxis], [1, 2]),\n",
    "    #     BoxField.LABELS: tf.cast(targets[BoxField.LABELS], tf.int32),\n",
    "    #     BoxField.NUM_BOXES: tf.shape(targets[BoxField.LABELS]),\n",
    "    #     BoxField.WEIGHTS: tf.fill(tf.shape(targets[BoxField.LABELS]), 1.0)\n",
    "    # }\n",
    "    ground_truths = tf.cast(targets[BoxField.LABELS], tf.int32)\n",
    "    ground_truths = tf.one_hot(ground_truths, depth=N_LABELS, dtype=tf.int32)\n",
    "    ground_truths = tf.reduce_sum(ground_truths, 0)\n",
    "    ground_truths = tf.greater( ground_truths, tf.constant( 0 ) )    \n",
    "    ground_truths = tf.where (ground_truths, 1, 0) \n",
    "    return image, ground_truths\n",
    "\n",
    "def expand_dims_for_single_batch(image, ground_truths):\n",
    "    image = tf.expand_dims(image, axis=0)\n",
    "    ground_truths = tf.expand_dims(ground_truths, axis=0)\n",
    "    return image, ground_truths\n"
   ],
   "outputs": [],
   "metadata": {}
  },
  {
   "cell_type": "code",
   "execution_count": 7,
   "source": [
    "ds_train, ds_info = tfds.load(name=\"coco/2017\", split=split_train, data_dir=data_dir, shuffle_files=True, download=False, with_info=True)\n",
    "ds_train = ds_train.map(functools.partial(my_preprocess), num_parallel_calls=tf.data.experimental.AUTOTUNE)\n",
    "ds_train = ds_train.map(expand_dims_for_single_batch, num_parallel_calls=tf.data.experimental.AUTOTUNE)\n",
    "ds_train = ds_train.prefetch(tf.data.experimental.AUTOTUNE)\n",
    "\n",
    "ds_val = tfds.load(name=\"coco/2017\", split=split_val, data_dir=data_dir, shuffle_files=True, download=False)\n",
    "ds_val = ds_val.map(functools.partial(my_preprocess), num_parallel_calls=tf.data.experimental.AUTOTUNE)\n",
    "ds_val = ds_val.map(expand_dims_for_single_batch, num_parallel_calls=tf.data.experimental.AUTOTUNE)\n",
    "ds_val = ds_val.prefetch(tf.data.experimental.AUTOTUNE)\n"
   ],
   "outputs": [
    {
     "output_type": "stream",
     "name": "stdout",
     "text": [
      "WARNING:tensorflow:AutoGraph could not transform <function my_preprocess at 0x7f7bcbafd200> and will run it as-is.\n",
      "Please report this to the TensorFlow team. When filing the bug, set the verbosity to 10 (on Linux, `export AUTOGRAPH_VERBOSITY=10`) and attach the full output.\n",
      "Cause: module 'gast' has no attribute 'Index'\n",
      "To silence this warning, decorate the function with @tf.autograph.experimental.do_not_convert\n"
     ]
    },
    {
     "output_type": "stream",
     "name": "stderr",
     "text": [
      "WARNING:tensorflow:AutoGraph could not transform <function my_preprocess at 0x7f7bcbafd200> and will run it as-is.\n",
      "Please report this to the TensorFlow team. When filing the bug, set the verbosity to 10 (on Linux, `export AUTOGRAPH_VERBOSITY=10`) and attach the full output.\n",
      "Cause: module 'gast' has no attribute 'Index'\n",
      "To silence this warning, decorate the function with @tf.autograph.experimental.do_not_convert\n"
     ]
    },
    {
     "output_type": "stream",
     "name": "stdout",
     "text": [
      "WARNING: AutoGraph could not transform <function my_preprocess at 0x7f7bcbafd200> and will run it as-is.\n",
      "Please report this to the TensorFlow team. When filing the bug, set the verbosity to 10 (on Linux, `export AUTOGRAPH_VERBOSITY=10`) and attach the full output.\n",
      "Cause: module 'gast' has no attribute 'Index'\n",
      "To silence this warning, decorate the function with @tf.autograph.experimental.do_not_convert\n"
     ]
    }
   ],
   "metadata": {
    "id": "1cC2k8osNGFw",
    "scrolled": true
   }
  },
  {
   "cell_type": "markdown",
   "source": [
    "# Load and train the network\n"
   ],
   "metadata": {
    "id": "9tt34CM6P-gr"
   }
  },
  {
   "cell_type": "code",
   "execution_count": 8,
   "source": [
    "# Find total number of classes in the coco dataset\n",
    "classes = ds_info.features['objects']['label'].names\n",
    "num_classes = len(classes)\n",
    "print(num_classes)"
   ],
   "outputs": [
    {
     "output_type": "stream",
     "name": "stdout",
     "text": [
      "80\n"
     ]
    }
   ],
   "metadata": {}
  },
  {
   "cell_type": "code",
   "execution_count": 9,
   "source": [
    "image_model = tf.keras.applications.InceptionV3(include_top=False,weights='imagenet')\n",
    "\n",
    "x = image_model.output\n",
    "x = GlobalAveragePooling2D()(x)\n",
    "x = tf.keras.layers.Dense(1024, activation='relu')(x)\n",
    "predictions = tf.keras.layers.Dense(80, activation='sigmoid')(x)\n",
    "\n",
    "model = tf.keras.Model(inputs=image_model.input, outputs=predictions)\n",
    "\n",
    "for layer in image_model.layers:\n",
    "    layer.trainable = False\n",
    "\n",
    "# model.compile(optimizer='rmsprop', loss=ncce, metrics=['accuracy'])\n",
    "model.compile(optimizer='adam', loss='binary_crossentropy', metrics=['accuracy'])\n",
    "# model.compile(optimizer='rmsprop', loss='categorical_crossentropy')"
   ],
   "outputs": [],
   "metadata": {}
  },
  {
   "cell_type": "code",
   "execution_count": 10,
   "source": [
    "# for layer in model.layers:\n",
    "#     print(layer.trainable)"
   ],
   "outputs": [],
   "metadata": {}
  },
  {
   "cell_type": "code",
   "execution_count": 11,
   "source": [
    "if (TRAIN_MODE == True):\n",
    "    callbacks = [\n",
    "        TensorBoard(),\n",
    "        ModelCheckpoint('checkpoints/')\n",
    "    ]\n",
    "\n",
    "    model.fit(ds_train, validation_data=ds_val, epochs=N_EPOCHS, callbacks=callbacks)\n",
    "    # Save the weights for the serving\n",
    "    model.save_weights('/home/suphale/WorkSpace/temp_model/coco_classification_weights.h5')\n",
    "else:\n",
    "    model.load_weights('/home/suphale/WorkSpace/saved_model/coco_classification_weights.h5')    \n"
   ],
   "outputs": [],
   "metadata": {}
  },
  {
   "cell_type": "markdown",
   "source": [
    "## Visualisation of few images"
   ],
   "metadata": {
    "id": "_ZrcN9snlNxh"
   }
  },
  {
   "cell_type": "code",
   "execution_count": 12,
   "source": [
    "for test_index in range(10):\n",
    "    sample_img_batch, sample_cap_batch = next(iter(ds_val))\n",
    "    s = model(sample_img_batch)\n",
    "    plt.imshow(tf.squeeze(sample_img_batch, [0]))\n",
    "\n",
    "    print(\"Reference:\")\n",
    "    n = sample_cap_batch.numpy()\n",
    "    index = 0\n",
    "    for x in n[0]:\n",
    "        if x > 0.1:\n",
    "            print(\"%s,\" % (classes[index]), end=' ')\n",
    "        index += 1\n",
    "    print(\"\")\n",
    "    print(\"Prediction:\")\n",
    "    n = s.numpy()\n",
    "    index = 0\n",
    "    for x in n[0]:\n",
    "        if x > 0.5:\n",
    "            print(\"%s(%.2f),\" % (classes[index],x), end=' ')\n",
    "        index += 1\n",
    "    print(\"\")\n"
   ],
   "outputs": [
    {
     "output_type": "stream",
     "name": "stderr",
     "text": [
      "WARNING:matplotlib.image:Clipping input data to the valid range for imshow with RGB data ([0..1] for floats or [0..255] for integers).\n"
     ]
    },
    {
     "output_type": "stream",
     "name": "stdout",
     "text": [
      "Reference:\n",
      "person, bus, book, \n",
      "Prediction:\n",
      "bus(0.99), \n"
     ]
    },
    {
     "output_type": "stream",
     "name": "stderr",
     "text": [
      "WARNING:matplotlib.image:Clipping input data to the valid range for imshow with RGB data ([0..1] for floats or [0..255] for integers).\n"
     ]
    },
    {
     "output_type": "stream",
     "name": "stdout",
     "text": [
      "Reference:\n",
      "person, car, handbag, \n",
      "Prediction:\n",
      "person(0.96), skateboard(0.89), \n"
     ]
    },
    {
     "output_type": "stream",
     "name": "stderr",
     "text": [
      "WARNING:matplotlib.image:Clipping input data to the valid range for imshow with RGB data ([0..1] for floats or [0..255] for integers).\n"
     ]
    },
    {
     "output_type": "stream",
     "name": "stdout",
     "text": [
      "Reference:\n",
      "person, tennis racket, \n",
      "Prediction:\n",
      "person(0.99), sports ball(0.52), tennis racket(1.00), \n"
     ]
    },
    {
     "output_type": "stream",
     "name": "stderr",
     "text": [
      "WARNING:matplotlib.image:Clipping input data to the valid range for imshow with RGB data ([0..1] for floats or [0..255] for integers).\n"
     ]
    },
    {
     "output_type": "stream",
     "name": "stdout",
     "text": [
      "Reference:\n",
      "remote, book, \n",
      "Prediction:\n",
      "bottle(0.54), \n"
     ]
    },
    {
     "output_type": "stream",
     "name": "stderr",
     "text": [
      "WARNING:matplotlib.image:Clipping input data to the valid range for imshow with RGB data ([0..1] for floats or [0..255] for integers).\n"
     ]
    },
    {
     "output_type": "stream",
     "name": "stdout",
     "text": [
      "Reference:\n",
      "remote, book, \n",
      "Prediction:\n",
      "bottle(0.54), \n"
     ]
    },
    {
     "output_type": "stream",
     "name": "stderr",
     "text": [
      "WARNING:matplotlib.image:Clipping input data to the valid range for imshow with RGB data ([0..1] for floats or [0..255] for integers).\n"
     ]
    },
    {
     "output_type": "stream",
     "name": "stdout",
     "text": [
      "Reference:\n",
      "person, tennis racket, \n",
      "Prediction:\n",
      "person(0.99), sports ball(0.52), tennis racket(1.00), \n"
     ]
    },
    {
     "output_type": "stream",
     "name": "stderr",
     "text": [
      "WARNING:matplotlib.image:Clipping input data to the valid range for imshow with RGB data ([0..1] for floats or [0..255] for integers).\n"
     ]
    },
    {
     "output_type": "stream",
     "name": "stdout",
     "text": [
      "Reference:\n",
      "person, bus, book, \n",
      "Prediction:\n",
      "bus(0.99), \n"
     ]
    },
    {
     "output_type": "stream",
     "name": "stderr",
     "text": [
      "WARNING:matplotlib.image:Clipping input data to the valid range for imshow with RGB data ([0..1] for floats or [0..255] for integers).\n"
     ]
    },
    {
     "output_type": "stream",
     "name": "stdout",
     "text": [
      "Reference:\n",
      "person, bus, book, \n",
      "Prediction:\n",
      "bus(0.99), \n"
     ]
    },
    {
     "output_type": "stream",
     "name": "stderr",
     "text": [
      "WARNING:matplotlib.image:Clipping input data to the valid range for imshow with RGB data ([0..1] for floats or [0..255] for integers).\n"
     ]
    },
    {
     "output_type": "stream",
     "name": "stdout",
     "text": [
      "Reference:\n",
      "person, tennis racket, \n",
      "Prediction:\n",
      "person(0.99), sports ball(0.52), tennis racket(1.00), \n"
     ]
    },
    {
     "output_type": "stream",
     "name": "stderr",
     "text": [
      "WARNING:matplotlib.image:Clipping input data to the valid range for imshow with RGB data ([0..1] for floats or [0..255] for integers).\n"
     ]
    },
    {
     "output_type": "stream",
     "name": "stdout",
     "text": [
      "Reference:\n",
      "person, tennis racket, \n",
      "Prediction:\n",
      "person(0.99), sports ball(0.52), tennis racket(1.00), \n"
     ]
    },
    {
     "output_type": "display_data",
     "data": {
      "text/plain": [
       "<Figure size 432x288 with 1 Axes>"
      ],
      "image/png": "[encoded data removed]"
     },
     "metadata": {
      "needs_background": "light"
     }
    }
   ],
   "metadata": {
    "id": "LXhTDloWlNxi"
   }
  },
  {
   "cell_type": "markdown",
   "source": [
    "## Tensorboard"
   ],
   "metadata": {
    "id": "CD14aaUMEudZ"
   }
  },
  {
   "cell_type": "code",
   "execution_count": 13,
   "source": [
    "TensorBoard = False\n",
    "if(TensorBoard == True):\n",
    "    # Load TENSORBOARD\n",
    "    %load_ext tensorboard\n",
    "    # Start TENSORBOARD\n",
    "    %tensorboard --logdir logs"
   ],
   "outputs": [],
   "metadata": {
    "id": "Ec4-mdjcR_wy"
   }
  },
  {
   "cell_type": "markdown",
   "source": [
    "### Load the dataset"
   ],
   "metadata": {
    "id": "cx9Jkvs2lNxj"
   }
  },
  {
   "cell_type": "markdown",
   "source": [
    "### Super dirty but the evaluation works"
   ],
   "metadata": {
    "id": "kcnsF4UjlNxj"
   }
  },
  {
   "cell_type": "markdown",
   "source": [
    "1. perform the analysis"
   ],
   "metadata": {
    "id": "KSqnoi3jlNxk"
   }
  },
  {
   "cell_type": "markdown",
   "source": [
    "2. install the coco library to compute the performances"
   ],
   "metadata": {
    "id": "fxhTvq_UlNxl"
   }
  },
  {
   "cell_type": "code",
   "execution_count": 14,
   "source": [
    "# !wget http://images.cocodataset.org/annotations/annotations_trainval2017.zip\n",
    "# !unzip annotations_trainval2017.zip\n",
    "# !pip install 'git+https://github.com/cocodataset/cocoapi.git#subdirectory=PythonAPI'"
   ],
   "outputs": [],
   "metadata": {
    "id": "iE3QzM5xlNxl"
   }
  },
  {
   "cell_type": "markdown",
   "source": [
    "3. compute the performances"
   ],
   "metadata": {
    "id": "Bpw4HGtplNxm"
   }
  },
  {
   "cell_type": "code",
   "execution_count": 15,
   "source": [
    "# ds_info\n",
    "old_model = tf.keras.models.load_model('model')"
   ],
   "outputs": [],
   "metadata": {}
  },
  {
   "cell_type": "code",
   "execution_count": 16,
   "source": [
    "len(old_model.layers)\n"
   ],
   "outputs": [
    {
     "output_type": "execute_result",
     "data": {
      "text/plain": [
       "314"
      ]
     },
     "metadata": {},
     "execution_count": 16
    }
   ],
   "metadata": {}
  },
  {
   "cell_type": "code",
   "execution_count": 17,
   "source": [
    "# old_model.summary(line_length=150)"
   ],
   "outputs": [],
   "metadata": {}
  },
  {
   "cell_type": "code",
   "execution_count": null,
   "source": [],
   "outputs": [],
   "metadata": {}
  },
  {
   "cell_type": "code",
   "execution_count": 18,
   "source": [
    "sample_img_batch, sample_cap_batch = next(iter(ds_val))\n",
    "# s = model(sample_img_batch)\n",
    "# plt.imshow(tf.squeeze(sample_img_batch, [0]))\n"
   ],
   "outputs": [],
   "metadata": {}
  },
  {
   "cell_type": "code",
   "execution_count": 19,
   "source": [
    "last_encoder_layer = 3\n",
    "\n",
    "# hidden_layer = old_model.layers[last_encoder_layer].output\n",
    "\n",
    "head_model = tf.keras.Model(inputs=old_model.input, outputs=old_model.layers[last_encoder_layer].output)\n",
    "\n",
    "hidden_layer = head_model(sample_img_batch)\n",
    "print(type(old_model.layers[last_encoder_layer]))\n",
    "print(tf.shape(hidden_layer))\n",
    "# head_model_output = head_model.output\n",
    "# tf.keras.Input(old_model.layers[2])\n",
    "# tail_model = tf.keras.Model(inputs=tf.keras.Input(old_model.layers[2]), outputs=old_model.output)\n",
    "\n",
    "head_model.summary(line_length=150)\n",
    "\n"
   ],
   "outputs": [
    {
     "output_type": "stream",
     "name": "stdout",
     "text": [
      "<class 'tensorflow.python.keras.layers.core.Activation'>\n",
      "tf.Tensor([  1 149 149  32], shape=(4,), dtype=int32)\n",
      "Model: \"model_1\"\n",
      "______________________________________________________________________________________________________________________________________________________\n",
      "Layer (type)                                                       Output Shape                                                Param #                \n",
      "======================================================================================================================================================\n",
      "input_1 (InputLayer)                                               [(None, None, None, 3)]                                     0                      \n",
      "______________________________________________________________________________________________________________________________________________________\n",
      "conv2d (Conv2D)                                                    (None, None, None, 32)                                      864                    \n",
      "______________________________________________________________________________________________________________________________________________________\n",
      "batch_normalization (BatchNormalization)                           (None, None, None, 32)                                      96                     \n",
      "______________________________________________________________________________________________________________________________________________________\n",
      "activation (Activation)                                            (None, None, None, 32)                                      0                      \n",
      "======================================================================================================================================================\n",
      "Total params: 960\n",
      "Trainable params: 896\n",
      "Non-trainable params: 64\n",
      "______________________________________________________________________________________________________________________________________________________\n"
     ]
    }
   ],
   "metadata": {}
  },
  {
   "cell_type": "code",
   "execution_count": 20,
   "source": [
    "\n",
    "len(old_model.layers)\n",
    "\n"
   ],
   "outputs": [
    {
     "output_type": "execute_result",
     "data": {
      "text/plain": [
       "314"
      ]
     },
     "metadata": {},
     "execution_count": 20
    }
   ],
   "metadata": {}
  },
  {
   "cell_type": "code",
   "execution_count": 21,
   "source": [
    "from tensorflow import keras  # or import keras for standalone version\n",
    "from tensorflow.keras.layers import Input\n",
    "\n",
    "org_model = tf.keras.models.load_model('model')\n",
    "new_model = tf.keras.models.load_model('model')\n"
   ],
   "outputs": [],
   "metadata": {}
  },
  {
   "cell_type": "code",
   "execution_count": 22,
   "source": [
    "head_model_config = head_model.get_config()\n",
    "# head_model_config"
   ],
   "outputs": [],
   "metadata": {}
  },
  {
   "cell_type": "code",
   "execution_count": 23,
   "source": [
    "model_config = new_model.get_config()"
   ],
   "outputs": [],
   "metadata": {}
  },
  {
   "cell_type": "code",
   "execution_count": 24,
   "source": [
    "model_config.keys()"
   ],
   "outputs": [
    {
     "output_type": "execute_result",
     "data": {
      "text/plain": [
       "dict_keys(['name', 'layers', 'input_layers', 'output_layers'])"
      ]
     },
     "metadata": {},
     "execution_count": 24
    }
   ],
   "metadata": {}
  },
  {
   "cell_type": "code",
   "execution_count": 25,
   "source": [
    "max_layer_index = len(model_config['layers']) - 1"
   ],
   "outputs": [],
   "metadata": {}
  },
  {
   "cell_type": "code",
   "execution_count": 26,
   "source": [
    "model_config['name']"
   ],
   "outputs": [
    {
     "output_type": "execute_result",
     "data": {
      "text/plain": [
       "'model'"
      ]
     },
     "metadata": {},
     "execution_count": 26
    }
   ],
   "metadata": {}
  },
  {
   "cell_type": "code",
   "execution_count": 27,
   "source": [
    "model_config['output_layers']\n",
    "\n",
    "split_layer = 4\n",
    "\n",
    "new_head_model_config = {}\n",
    "new_head_model_config['name'] = 'head_model'\n",
    "new_head_model_config['layers'] = []\n",
    "new_head_model_config['input_layers'] = [[model_config['layers'][0]['name'],0,0]]\n",
    "new_head_model_config['output_layers'] = [[model_config['layers'][split_layer-1]['name'],0,0]]\n",
    "\n",
    "for index in range(split_layer):\n",
    "    print(\"%d %s\" % (index, model_config['layers'][index]['name']) )\n",
    "    new_head_model_config['layers'].append(model_config['layers'][index])"
   ],
   "outputs": [
    {
     "output_type": "stream",
     "name": "stdout",
     "text": [
      "0 input_1\n",
      "1 conv2d\n",
      "2 batch_normalization\n",
      "3 activation\n"
     ]
    }
   ],
   "metadata": {}
  },
  {
   "cell_type": "code",
   "execution_count": 28,
   "source": [
    "# model_config['layers'][max_layer_len-1]['name']"
   ],
   "outputs": [],
   "metadata": {}
  },
  {
   "cell_type": "code",
   "execution_count": 29,
   "source": [
    "import json\n",
    "import copy\n",
    "\n",
    "new_tail_model_config = copy.deepcopy(model_config)\n",
    "# new_tail_model_config = json.loads(json.dumps(model_config))\n",
    "new_tail_model_config['name'] = 'tail_model'\n",
    "# new_tail_model_config['layers'] = []\n",
    "new_tail_model_config['input_layers'] = [[model_config['layers'][split_layer]['name'],0,0]]\n",
    "new_tail_model_config['output_layers'] = [[model_config['layers'][max_layer_index]['name'],0,0]]"
   ],
   "outputs": [],
   "metadata": {}
  },
  {
   "cell_type": "code",
   "execution_count": 30,
   "source": [
    "new_input_layer = {\n",
    "                      'name': 'new_input',\n",
    "                      'class_name': 'InputLayer',\n",
    "                      'config': {\n",
    "                          'batch_input_shape': (None, None, None, 32),\n",
    "                          'dtype': 'float32',\n",
    "                          'sparse': False,\n",
    "                          'name': 'new_input'\n",
    "                      },\n",
    "                      'inbound_nodes': []\n",
    "                  }\n",
    "new_tail_model_config['layers'][0] = new_input_layer"
   ],
   "outputs": [],
   "metadata": {}
  },
  {
   "cell_type": "code",
   "execution_count": 31,
   "source": [
    "for index in range(1,split_layer):\n",
    "    print(\"%d %s\" % (index, new_tail_model_config['layers'][1]['name']) )\n",
    "    # new_tail_model_config['layers'].append(model_config['layers'][index])\n",
    "    new_tail_model_config['layers'].pop(1)"
   ],
   "outputs": [
    {
     "output_type": "stream",
     "name": "stdout",
     "text": [
      "1 conv2d\n",
      "2 batch_normalization\n",
      "3 activation\n"
     ]
    }
   ],
   "metadata": {}
  },
  {
   "cell_type": "code",
   "execution_count": 32,
   "source": [
    "# input_layer_name = model_config['layers'][0]['name']\n",
    "new_tail_model_config['layers'][1]['inbound_nodes'] = [[['new_input', 0, 0, {}]]]\n",
    "new_tail_model_config['input_layers'] = [['new_input', 0, 0]]"
   ],
   "outputs": [],
   "metadata": {}
  },
  {
   "cell_type": "code",
   "execution_count": 33,
   "source": [
    "import pprint\n",
    "\n",
    "pp = pprint.PrettyPrinter(indent=4)\n",
    "pp.pprint(model_config['layers'][4])\n"
   ],
   "outputs": [
    {
     "output_type": "stream",
     "name": "stdout",
     "text": [
      "{   'class_name': 'Conv2D',\n",
      "    'config': {   'activation': 'linear',\n",
      "                  'activity_regularizer': None,\n",
      "                  'bias_constraint': None,\n",
      "                  'bias_initializer': {'class_name': 'Zeros', 'config': {}},\n",
      "                  'bias_regularizer': None,\n",
      "                  'data_format': 'channels_last',\n",
      "                  'dilation_rate': (1, 1),\n",
      "                  'dtype': 'float32',\n",
      "                  'filters': 32,\n",
      "                  'groups': 1,\n",
      "                  'kernel_constraint': None,\n",
      "                  'kernel_initializer': {   'class_name': 'GlorotUniform',\n",
      "                                            'config': {'seed': None}},\n",
      "                  'kernel_regularizer': None,\n",
      "                  'kernel_size': (3, 3),\n",
      "                  'name': 'conv2d_1',\n",
      "                  'padding': 'valid',\n",
      "                  'strides': (1, 1),\n",
      "                  'trainable': True,\n",
      "                  'use_bias': False},\n",
      "    'inbound_nodes': [[['activation', 0, 0, {}]]],\n",
      "    'name': 'conv2d_1'}\n"
     ]
    }
   ],
   "metadata": {}
  },
  {
   "cell_type": "code",
   "execution_count": 34,
   "source": [
    "pp.pprint(new_tail_model_config['layers'][1])\n"
   ],
   "outputs": [
    {
     "output_type": "stream",
     "name": "stdout",
     "text": [
      "{   'class_name': 'Conv2D',\n",
      "    'config': {   'activation': 'linear',\n",
      "                  'activity_regularizer': None,\n",
      "                  'bias_constraint': None,\n",
      "                  'bias_initializer': {'class_name': 'Zeros', 'config': {}},\n",
      "                  'bias_regularizer': None,\n",
      "                  'data_format': 'channels_last',\n",
      "                  'dilation_rate': (1, 1),\n",
      "                  'dtype': 'float32',\n",
      "                  'filters': 32,\n",
      "                  'groups': 1,\n",
      "                  'kernel_constraint': None,\n",
      "                  'kernel_initializer': {   'class_name': 'GlorotUniform',\n",
      "                                            'config': {'seed': None}},\n",
      "                  'kernel_regularizer': None,\n",
      "                  'kernel_size': (3, 3),\n",
      "                  'name': 'conv2d_1',\n",
      "                  'padding': 'valid',\n",
      "                  'strides': (1, 1),\n",
      "                  'trainable': True,\n",
      "                  'use_bias': False},\n",
      "    'inbound_nodes': [[['new_input', 0, 0, {}]]],\n",
      "    'name': 'conv2d_1'}\n"
     ]
    }
   ],
   "metadata": {}
  },
  {
   "cell_type": "code",
   "execution_count": 35,
   "source": [
    "import pprint\n",
    "with open('model_config.txt','w') as fh:\n",
    "    # Pass the file handle in as a lambda function to make it callable\n",
    "    # fh.write(str(model_config))\n",
    "    pp = pprint.PrettyPrinter(indent=4, stream=fh)\n",
    "    pp.pprint(str(model_config))\n",
    "with open('head_model_config.txt','w') as fh:\n",
    "    # Pass the file handle in as a lambda function to make it callable\n",
    "    pp = pprint.PrettyPrinter(indent=4, stream=fh)\n",
    "    pp.pprint(str(head_model_config))\n",
    "    # fh.write(str(head_model_config))\n",
    "with open('new_head_model_config.txt','w') as fh:\n",
    "    # Pass the file handle in as a lambda function to make it callable\n",
    "    # fh.write(str(new_head_model_config))\n",
    "    pp = pprint.PrettyPrinter(indent=4, stream=fh)\n",
    "    pp.pprint(str(new_head_model_config))\n",
    "with open('new_tail_model_config.txt','w') as fh:\n",
    "    # Pass the file handle in as a lambda function to make it callable\n",
    "    # fh.write(str(new_head_model_config))\n",
    "    pp = pprint.PrettyPrinter(indent=4, stream=fh)\n",
    "    pp.pprint(str(new_tail_model_config))\n"
   ],
   "outputs": [],
   "metadata": {}
  },
  {
   "cell_type": "code",
   "execution_count": 36,
   "source": [
    "new_head_model = new_model.__class__.from_config(new_head_model_config, custom_objects={})\n"
   ],
   "outputs": [],
   "metadata": {}
  },
  {
   "cell_type": "code",
   "execution_count": 37,
   "source": [
    "new_model.__class__"
   ],
   "outputs": [
    {
     "output_type": "execute_result",
     "data": {
      "text/plain": [
       "tensorflow.python.keras.engine.functional.Functional"
      ]
     },
     "metadata": {},
     "execution_count": 37
    }
   ],
   "metadata": {}
  },
  {
   "cell_type": "code",
   "execution_count": 38,
   "source": [
    "new_tail_model = new_model.__class__.from_config(new_tail_model_config, custom_objects={})\n"
   ],
   "outputs": [],
   "metadata": {}
  },
  {
   "cell_type": "code",
   "execution_count": 39,
   "source": [
    "with open('org_model.txt','w') as fh:\n",
    "    # Pass the file handle in as a lambda function to make it callable\n",
    "    org_model.summary(print_fn=lambda x: fh.write(x + '\\n'), line_length=150)\n",
    "\n",
    "with open('new_head_model.txt','w') as fh:\n",
    "    # Pass the file handle in as a lambda function to make it callable\n",
    "    new_head_model.summary(print_fn=lambda x: fh.write(x + '\\n'), line_length=150)\n",
    "\n",
    "with open('new_tail_model.txt','w') as fh:\n",
    "    # Pass the file handle in as a lambda function to make it callable\n",
    "    new_tail_model.summary(print_fn=lambda x: fh.write(x + '\\n'), line_length=150)\n"
   ],
   "outputs": [],
   "metadata": {}
  },
  {
   "cell_type": "code",
   "execution_count": 46,
   "source": [
    "for index, layer in enumerate(org_model.layers[:split_layer]):\n",
    "    # print(\"[%d] %s %s\" % (index, layer.name, str(np.shape(weight))))\n",
    "    weight = layer.get_weights()\n",
    "    new_head_model_layer = new_head_model.layers[index]\n",
    "    new_head_model_layer.set_weights(weight)\n"
   ],
   "outputs": [
    {
     "output_type": "stream",
     "name": "stdout",
     "text": [
      "[0] input_1 (1, 3, 3, 32, 32)\n",
      "[1] conv2d (0,)\n",
      "[2] batch_normalization (1, 3, 3, 3, 32)\n",
      "[3] activation (3, 32)\n"
     ]
    }
   ],
   "metadata": {}
  },
  {
   "cell_type": "code",
   "execution_count": 52,
   "source": [
    "for index, layer in enumerate(org_model.layers):\n",
    "    weight = layer.get_weights()\n",
    "    # print(\"[%d] %s %s\" % (index, layer.name, str(np.shape(weight))))\n"
   ],
   "outputs": [
    {
     "output_type": "stream",
     "name": "stdout",
     "text": [
      "[0] input_1 (0,)\n",
      "[1] conv2d (1, 3, 3, 3, 32)\n",
      "[2] batch_normalization (3, 32)\n",
      "[3] activation (0,)\n",
      "[4] conv2d_1 (1, 3, 3, 32, 32)\n",
      "[5] batch_normalization_1 (3, 32)\n",
      "[6] activation_1 (0,)\n",
      "[7] conv2d_2 (1, 3, 3, 32, 64)\n",
      "[8] batch_normalization_2 (3, 64)\n",
      "[9] activation_2 (0,)\n",
      "[10] max_pooling2d (0,)\n",
      "[11] conv2d_3 (1, 1, 1, 64, 80)\n",
      "[12] batch_normalization_3 (3, 80)\n",
      "[13] activation_3 (0,)\n",
      "[14] conv2d_4 (1, 3, 3, 80, 192)\n",
      "[15] batch_normalization_4 (3, 192)\n",
      "[16] activation_4 (0,)\n",
      "[17] max_pooling2d_1 (0,)\n",
      "[18] conv2d_8 (1, 1, 1, 192, 64)\n",
      "[19] batch_normalization_8 (3, 64)\n",
      "[20] activation_8 (0,)\n",
      "[21] conv2d_6 (1, 1, 1, 192, 48)\n",
      "[22] conv2d_9 (1, 3, 3, 64, 96)\n",
      "[23] batch_normalization_6 (3, 48)\n",
      "[24] batch_normalization_9 (3, 96)\n",
      "[25] activation_6 (0,)\n",
      "[26] activation_9 (0,)\n",
      "[27] average_pooling2d (0,)\n",
      "[28] conv2d_5 (1, 1, 1, 192, 64)\n",
      "[29] conv2d_7 (1, 5, 5, 48, 64)\n",
      "[30] conv2d_10 (1, 3, 3, 96, 96)\n",
      "[31] conv2d_11 (1, 1, 1, 192, 32)\n",
      "[32] batch_normalization_5 (3, 64)\n",
      "[33] batch_normalization_7 (3, 64)\n",
      "[34] batch_normalization_10 (3, 96)\n",
      "[35] batch_normalization_11 (3, 32)\n",
      "[36] activation_5 (0,)\n",
      "[37] activation_7 (0,)\n",
      "[38] activation_10 (0,)\n",
      "[39] activation_11 (0,)\n",
      "[40] mixed0 (0,)\n",
      "[41] conv2d_15 (1, 1, 1, 256, 64)\n",
      "[42] batch_normalization_15 (3, 64)\n",
      "[43] activation_15 (0,)\n",
      "[44] conv2d_13 (1, 1, 1, 256, 48)\n",
      "[45] conv2d_16 (1, 3, 3, 64, 96)\n",
      "[46] batch_normalization_13 (3, 48)\n",
      "[47] batch_normalization_16 (3, 96)\n",
      "[48] activation_13 (0,)\n",
      "[49] activation_16 (0,)\n",
      "[50] average_pooling2d_1 (0,)\n",
      "[51] conv2d_12 (1, 1, 1, 256, 64)\n",
      "[52] conv2d_14 (1, 5, 5, 48, 64)\n",
      "[53] conv2d_17 (1, 3, 3, 96, 96)\n",
      "[54] conv2d_18 (1, 1, 1, 256, 64)\n",
      "[55] batch_normalization_12 (3, 64)\n",
      "[56] batch_normalization_14 (3, 64)\n",
      "[57] batch_normalization_17 (3, 96)\n",
      "[58] batch_normalization_18 (3, 64)\n",
      "[59] activation_12 (0,)\n",
      "[60] activation_14 (0,)\n",
      "[61] activation_17 (0,)\n",
      "[62] activation_18 (0,)\n",
      "[63] mixed1 (0,)\n",
      "[64] conv2d_22 (1, 1, 1, 288, 64)\n",
      "[65] batch_normalization_22 (3, 64)\n",
      "[66] activation_22 (0,)\n",
      "[67] conv2d_20 (1, 1, 1, 288, 48)\n",
      "[68] conv2d_23 (1, 3, 3, 64, 96)\n",
      "[69] batch_normalization_20 (3, 48)\n",
      "[70] batch_normalization_23 (3, 96)\n",
      "[71] activation_20 (0,)\n",
      "[72] activation_23 (0,)\n",
      "[73] average_pooling2d_2 (0,)\n",
      "[74] conv2d_19 (1, 1, 1, 288, 64)\n",
      "[75] conv2d_21 (1, 5, 5, 48, 64)\n",
      "[76] conv2d_24 (1, 3, 3, 96, 96)\n",
      "[77] conv2d_25 (1, 1, 1, 288, 64)\n",
      "[78] batch_normalization_19 (3, 64)\n",
      "[79] batch_normalization_21 (3, 64)\n",
      "[80] batch_normalization_24 (3, 96)\n",
      "[81] batch_normalization_25 (3, 64)\n",
      "[82] activation_19 (0,)\n",
      "[83] activation_21 (0,)\n",
      "[84] activation_24 (0,)\n",
      "[85] activation_25 (0,)\n",
      "[86] mixed2 (0,)\n",
      "[87] conv2d_27 (1, 1, 1, 288, 64)\n",
      "[88] batch_normalization_27 (3, 64)\n",
      "[89] activation_27 (0,)\n",
      "[90] conv2d_28 (1, 3, 3, 64, 96)\n",
      "[91] batch_normalization_28 (3, 96)\n",
      "[92] activation_28 (0,)\n",
      "[93] conv2d_26 (1, 3, 3, 288, 384)\n",
      "[94] conv2d_29 (1, 3, 3, 96, 96)\n",
      "[95] batch_normalization_26 (3, 384)\n",
      "[96] batch_normalization_29 (3, 96)\n",
      "[97] activation_26 (0,)\n",
      "[98] activation_29 (0,)\n",
      "[99] max_pooling2d_2 (0,)\n",
      "[100] mixed3 (0,)\n",
      "[101] conv2d_34 (1, 1, 1, 768, 128)\n",
      "[102] batch_normalization_34 (3, 128)\n",
      "[103] activation_34 (0,)\n",
      "[104] conv2d_35 (1, 7, 1, 128, 128)\n",
      "[105] batch_normalization_35 (3, 128)\n",
      "[106] activation_35 (0,)\n",
      "[107] conv2d_31 (1, 1, 1, 768, 128)\n",
      "[108] conv2d_36 (1, 1, 7, 128, 128)\n",
      "[109] batch_normalization_31 (3, 128)\n",
      "[110] batch_normalization_36 (3, 128)\n",
      "[111] activation_31 (0,)\n",
      "[112] activation_36 (0,)\n",
      "[113] conv2d_32 (1, 1, 7, 128, 128)\n",
      "[114] conv2d_37 (1, 7, 1, 128, 128)\n",
      "[115] batch_normalization_32 (3, 128)\n",
      "[116] batch_normalization_37 (3, 128)\n",
      "[117] activation_32 (0,)\n",
      "[118] activation_37 (0,)\n",
      "[119] average_pooling2d_3 (0,)\n",
      "[120] conv2d_30 (1, 1, 1, 768, 192)\n",
      "[121] conv2d_33 (1, 7, 1, 128, 192)\n",
      "[122] conv2d_38 (1, 1, 7, 128, 192)\n",
      "[123] conv2d_39 (1, 1, 1, 768, 192)\n",
      "[124] batch_normalization_30 (3, 192)\n",
      "[125] batch_normalization_33 (3, 192)\n",
      "[126] batch_normalization_38 (3, 192)\n",
      "[127] batch_normalization_39 (3, 192)\n",
      "[128] activation_30 (0,)\n",
      "[129] activation_33 (0,)\n",
      "[130] activation_38 (0,)\n",
      "[131] activation_39 (0,)\n",
      "[132] mixed4 (0,)\n",
      "[133] conv2d_44 (1, 1, 1, 768, 160)\n",
      "[134] batch_normalization_44 (3, 160)\n",
      "[135] activation_44 (0,)\n",
      "[136] conv2d_45 (1, 7, 1, 160, 160)\n",
      "[137] batch_normalization_45 (3, 160)\n",
      "[138] activation_45 (0,)\n",
      "[139] conv2d_41 (1, 1, 1, 768, 160)\n",
      "[140] conv2d_46 (1, 1, 7, 160, 160)\n",
      "[141] batch_normalization_41 (3, 160)\n",
      "[142] batch_normalization_46 (3, 160)\n",
      "[143] activation_41 (0,)\n",
      "[144] activation_46 (0,)\n",
      "[145] conv2d_42 (1, 1, 7, 160, 160)\n",
      "[146] conv2d_47 (1, 7, 1, 160, 160)\n",
      "[147] batch_normalization_42 (3, 160)\n",
      "[148] batch_normalization_47 (3, 160)\n",
      "[149] activation_42 (0,)\n",
      "[150] activation_47 (0,)\n",
      "[151] average_pooling2d_4 (0,)\n",
      "[152] conv2d_40 (1, 1, 1, 768, 192)\n",
      "[153] conv2d_43 (1, 7, 1, 160, 192)\n",
      "[154] conv2d_48 (1, 1, 7, 160, 192)\n",
      "[155] conv2d_49 (1, 1, 1, 768, 192)\n",
      "[156] batch_normalization_40 (3, 192)\n",
      "[157] batch_normalization_43 (3, 192)\n",
      "[158] batch_normalization_48 (3, 192)\n",
      "[159] batch_normalization_49 (3, 192)\n",
      "[160] activation_40 (0,)\n",
      "[161] activation_43 (0,)\n",
      "[162] activation_48 (0,)\n",
      "[163] activation_49 (0,)\n",
      "[164] mixed5 (0,)\n",
      "[165] conv2d_54 (1, 1, 1, 768, 160)\n",
      "[166] batch_normalization_54 (3, 160)\n",
      "[167] activation_54 (0,)\n",
      "[168] conv2d_55 (1, 7, 1, 160, 160)\n",
      "[169] batch_normalization_55 (3, 160)\n",
      "[170] activation_55 (0,)\n",
      "[171] conv2d_51 (1, 1, 1, 768, 160)\n",
      "[172] conv2d_56 (1, 1, 7, 160, 160)\n",
      "[173] batch_normalization_51 (3, 160)\n",
      "[174] batch_normalization_56 (3, 160)\n",
      "[175] activation_51 (0,)\n",
      "[176] activation_56 (0,)\n",
      "[177] conv2d_52 (1, 1, 7, 160, 160)\n",
      "[178] conv2d_57 (1, 7, 1, 160, 160)\n",
      "[179] batch_normalization_52 (3, 160)\n",
      "[180] batch_normalization_57 (3, 160)\n",
      "[181] activation_52 (0,)\n",
      "[182] activation_57 (0,)\n",
      "[183] average_pooling2d_5 (0,)\n",
      "[184] conv2d_50 (1, 1, 1, 768, 192)\n",
      "[185] conv2d_53 (1, 7, 1, 160, 192)\n",
      "[186] conv2d_58 (1, 1, 7, 160, 192)\n",
      "[187] conv2d_59 (1, 1, 1, 768, 192)\n",
      "[188] batch_normalization_50 (3, 192)\n",
      "[189] batch_normalization_53 (3, 192)\n",
      "[190] batch_normalization_58 (3, 192)\n",
      "[191] batch_normalization_59 (3, 192)\n",
      "[192] activation_50 (0,)\n",
      "[193] activation_53 (0,)\n",
      "[194] activation_58 (0,)\n",
      "[195] activation_59 (0,)\n",
      "[196] mixed6 (0,)\n",
      "[197] conv2d_64 (1, 1, 1, 768, 192)\n",
      "[198] batch_normalization_64 (3, 192)\n",
      "[199] activation_64 (0,)\n",
      "[200] conv2d_65 (1, 7, 1, 192, 192)\n",
      "[201] batch_normalization_65 (3, 192)\n",
      "[202] activation_65 (0,)\n",
      "[203] conv2d_61 (1, 1, 1, 768, 192)\n",
      "[204] conv2d_66 (1, 1, 7, 192, 192)\n",
      "[205] batch_normalization_61 (3, 192)\n",
      "[206] batch_normalization_66 (3, 192)\n",
      "[207] activation_61 (0,)\n",
      "[208] activation_66 (0,)\n",
      "[209] conv2d_62 (1, 1, 7, 192, 192)\n",
      "[210] conv2d_67 (1, 7, 1, 192, 192)\n",
      "[211] batch_normalization_62 (3, 192)\n",
      "[212] batch_normalization_67 (3, 192)\n",
      "[213] activation_62 (0,)\n",
      "[214] activation_67 (0,)\n",
      "[215] average_pooling2d_6 (0,)\n",
      "[216] conv2d_60 (1, 1, 1, 768, 192)\n",
      "[217] conv2d_63 (1, 7, 1, 192, 192)\n",
      "[218] conv2d_68 (1, 1, 7, 192, 192)\n",
      "[219] conv2d_69 (1, 1, 1, 768, 192)\n",
      "[220] batch_normalization_60 (3, 192)\n",
      "[221] batch_normalization_63 (3, 192)\n",
      "[222] batch_normalization_68 (3, 192)\n",
      "[223] batch_normalization_69 (3, 192)\n",
      "[224] activation_60 (0,)\n",
      "[225] activation_63 (0,)\n",
      "[226] activation_68 (0,)\n",
      "[227] activation_69 (0,)\n",
      "[228] mixed7 (0,)\n",
      "[229] conv2d_72 (1, 1, 1, 768, 192)\n",
      "[230] batch_normalization_72 (3, 192)\n",
      "[231] activation_72 (0,)\n",
      "[232] conv2d_73 (1, 1, 7, 192, 192)\n",
      "[233] batch_normalization_73 (3, 192)\n",
      "[234] activation_73 (0,)\n",
      "[235] conv2d_70 (1, 1, 1, 768, 192)\n",
      "[236] conv2d_74 (1, 7, 1, 192, 192)\n",
      "[237] batch_normalization_70 (3, 192)\n",
      "[238] batch_normalization_74 (3, 192)\n",
      "[239] activation_70 (0,)\n",
      "[240] activation_74 (0,)\n",
      "[241] conv2d_71 (1, 3, 3, 192, 320)\n",
      "[242] conv2d_75 (1, 3, 3, 192, 192)\n",
      "[243] batch_normalization_71 (3, 320)\n",
      "[244] batch_normalization_75 (3, 192)\n",
      "[245] activation_71 (0,)\n",
      "[246] activation_75 (0,)\n",
      "[247] max_pooling2d_3 (0,)\n",
      "[248] mixed8 (0,)\n",
      "[249] conv2d_80 (1, 1, 1, 1280, 448)\n",
      "[250] batch_normalization_80 (3, 448)\n",
      "[251] activation_80 (0,)\n",
      "[252] conv2d_77 (1, 1, 1, 1280, 384)\n",
      "[253] conv2d_81 (1, 3, 3, 448, 384)\n",
      "[254] batch_normalization_77 (3, 384)\n",
      "[255] batch_normalization_81 (3, 384)\n",
      "[256] activation_77 (0,)\n",
      "[257] activation_81 (0,)\n",
      "[258] conv2d_78 (1, 1, 3, 384, 384)\n",
      "[259] conv2d_79 (1, 3, 1, 384, 384)\n",
      "[260] conv2d_82 (1, 1, 3, 384, 384)\n",
      "[261] conv2d_83 (1, 3, 1, 384, 384)\n",
      "[262] average_pooling2d_7 (0,)\n",
      "[263] conv2d_76 (1, 1, 1, 1280, 320)\n",
      "[264] batch_normalization_78 (3, 384)\n",
      "[265] batch_normalization_79 (3, 384)\n",
      "[266] batch_normalization_82 (3, 384)\n",
      "[267] batch_normalization_83 (3, 384)\n",
      "[268] conv2d_84 (1, 1, 1, 1280, 192)\n",
      "[269] batch_normalization_76 (3, 320)\n",
      "[270] activation_78 (0,)\n",
      "[271] activation_79 (0,)\n",
      "[272] activation_82 (0,)\n",
      "[273] activation_83 (0,)\n",
      "[274] batch_normalization_84 (3, 192)\n",
      "[275] activation_76 (0,)\n",
      "[276] mixed9_0 (0,)\n",
      "[277] concatenate (0,)\n",
      "[278] activation_84 (0,)\n",
      "[279] mixed9 (0,)\n",
      "[280] conv2d_89 (1, 1, 1, 2048, 448)\n",
      "[281] batch_normalization_89 (3, 448)\n",
      "[282] activation_89 (0,)\n",
      "[283] conv2d_86 (1, 1, 1, 2048, 384)\n",
      "[284] conv2d_90 (1, 3, 3, 448, 384)\n",
      "[285] batch_normalization_86 (3, 384)\n",
      "[286] batch_normalization_90 (3, 384)\n",
      "[287] activation_86 (0,)\n",
      "[288] activation_90 (0,)\n",
      "[289] conv2d_87 (1, 1, 3, 384, 384)\n",
      "[290] conv2d_88 (1, 3, 1, 384, 384)\n",
      "[291] conv2d_91 (1, 1, 3, 384, 384)\n",
      "[292] conv2d_92 (1, 3, 1, 384, 384)\n",
      "[293] average_pooling2d_8 (0,)\n",
      "[294] conv2d_85 (1, 1, 1, 2048, 320)\n",
      "[295] batch_normalization_87 (3, 384)\n",
      "[296] batch_normalization_88 (3, 384)\n",
      "[297] batch_normalization_91 (3, 384)\n",
      "[298] batch_normalization_92 (3, 384)\n",
      "[299] conv2d_93 (1, 1, 1, 2048, 192)\n",
      "[300] batch_normalization_85 (3, 320)\n",
      "[301] activation_87 (0,)\n",
      "[302] activation_88 (0,)\n",
      "[303] activation_91 (0,)\n",
      "[304] activation_92 (0,)\n",
      "[305] batch_normalization_93 (3, 192)\n",
      "[306] activation_85 (0,)\n",
      "[307] mixed9_1 (0,)\n",
      "[308] concatenate_1 (0,)\n",
      "[309] activation_93 (0,)\n",
      "[310] mixed10 (0,)\n",
      "[311] global_average_pooling2d (0,)\n",
      "[312] dense (2,)\n",
      "[313] dense_1 (2,)\n"
     ]
    }
   ],
   "metadata": {}
  },
  {
   "cell_type": "code",
   "execution_count": 57,
   "source": [
    "org_model.layers[4].name"
   ],
   "outputs": [
    {
     "output_type": "execute_result",
     "data": {
      "text/plain": [
       "'conv2d_1'"
      ]
     },
     "metadata": {},
     "execution_count": 57
    }
   ],
   "metadata": {}
  },
  {
   "cell_type": "code",
   "execution_count": 59,
   "source": [
    "for index, layer in enumerate(org_model.layers[split_layer:max_layer_index+1]):\n",
    "    weight = layer.get_weights()\n",
    "    # print(\"[%d] %s %s\" % (index, layer.name, str(np.shape(weight))))\n",
    "    new_tail_model_layer = new_tail_model.layers[index+1]\n",
    "    # print(\"[%d] %s %s\" % (index, new_tail_model_layer.name, str(np.shape(weight))))\n",
    "    new_tail_model_layer.set_weights(weight)\n",
    "\n"
   ],
   "outputs": [
    {
     "output_type": "stream",
     "name": "stdout",
     "text": [
      "[0] conv2d_1 (1, 3, 3, 32, 32)\n",
      "[0] conv2d_1 (1, 3, 3, 32, 32)\n",
      "[1] batch_normalization_1 (3, 32)\n",
      "[1] batch_normalization_1 (3, 32)\n",
      "[2] activation_1 (0,)\n",
      "[2] activation_1 (0,)\n",
      "[3] conv2d_2 (1, 3, 3, 32, 64)\n",
      "[3] conv2d_2 (1, 3, 3, 32, 64)\n",
      "[4] batch_normalization_2 (3, 64)\n",
      "[4] batch_normalization_2 (3, 64)\n",
      "[5] activation_2 (0,)\n",
      "[5] activation_2 (0,)\n",
      "[6] max_pooling2d (0,)\n",
      "[6] max_pooling2d (0,)\n",
      "[7] conv2d_3 (1, 1, 1, 64, 80)\n",
      "[7] conv2d_3 (1, 1, 1, 64, 80)\n",
      "[8] batch_normalization_3 (3, 80)\n",
      "[8] batch_normalization_3 (3, 80)\n",
      "[9] activation_3 (0,)\n",
      "[9] activation_3 (0,)\n",
      "[10] conv2d_4 (1, 3, 3, 80, 192)\n",
      "[10] conv2d_4 (1, 3, 3, 80, 192)\n",
      "[11] batch_normalization_4 (3, 192)\n",
      "[11] batch_normalization_4 (3, 192)\n",
      "[12] activation_4 (0,)\n",
      "[12] activation_4 (0,)\n",
      "[13] max_pooling2d_1 (0,)\n",
      "[13] max_pooling2d_1 (0,)\n",
      "[14] conv2d_8 (1, 1, 1, 192, 64)\n",
      "[14] conv2d_8 (1, 1, 1, 192, 64)\n",
      "[15] batch_normalization_8 (3, 64)\n",
      "[15] batch_normalization_8 (3, 64)\n",
      "[16] activation_8 (0,)\n",
      "[16] activation_8 (0,)\n",
      "[17] conv2d_6 (1, 1, 1, 192, 48)\n",
      "[17] conv2d_6 (1, 1, 1, 192, 48)\n",
      "[18] conv2d_9 (1, 3, 3, 64, 96)\n",
      "[18] conv2d_9 (1, 3, 3, 64, 96)\n",
      "[19] batch_normalization_6 (3, 48)\n",
      "[19] batch_normalization_6 (3, 48)\n",
      "[20] batch_normalization_9 (3, 96)\n",
      "[20] batch_normalization_9 (3, 96)\n",
      "[21] activation_6 (0,)\n",
      "[21] activation_6 (0,)\n",
      "[22] activation_9 (0,)\n",
      "[22] activation_9 (0,)\n",
      "[23] average_pooling2d (0,)\n",
      "[23] average_pooling2d (0,)\n",
      "[24] conv2d_5 (1, 1, 1, 192, 64)\n",
      "[24] conv2d_5 (1, 1, 1, 192, 64)\n",
      "[25] conv2d_7 (1, 5, 5, 48, 64)\n",
      "[25] conv2d_7 (1, 5, 5, 48, 64)\n",
      "[26] conv2d_10 (1, 3, 3, 96, 96)\n",
      "[26] conv2d_10 (1, 3, 3, 96, 96)\n",
      "[27] conv2d_11 (1, 1, 1, 192, 32)\n",
      "[27] conv2d_11 (1, 1, 1, 192, 32)\n",
      "[28] batch_normalization_5 (3, 64)\n",
      "[28] batch_normalization_5 (3, 64)\n",
      "[29] batch_normalization_7 (3, 64)\n",
      "[29] batch_normalization_7 (3, 64)\n",
      "[30] batch_normalization_10 (3, 96)\n",
      "[30] batch_normalization_10 (3, 96)\n",
      "[31] batch_normalization_11 (3, 32)\n",
      "[31] batch_normalization_11 (3, 32)\n",
      "[32] activation_5 (0,)\n",
      "[32] activation_5 (0,)\n",
      "[33] activation_7 (0,)\n",
      "[33] activation_7 (0,)\n",
      "[34] activation_10 (0,)\n",
      "[34] activation_10 (0,)\n",
      "[35] activation_11 (0,)\n",
      "[35] activation_11 (0,)\n",
      "[36] mixed0 (0,)\n",
      "[36] mixed0 (0,)\n",
      "[37] conv2d_15 (1, 1, 1, 256, 64)\n",
      "[37] conv2d_15 (1, 1, 1, 256, 64)\n",
      "[38] batch_normalization_15 (3, 64)\n",
      "[38] batch_normalization_15 (3, 64)\n",
      "[39] activation_15 (0,)\n",
      "[39] activation_15 (0,)\n",
      "[40] conv2d_13 (1, 1, 1, 256, 48)\n",
      "[40] conv2d_13 (1, 1, 1, 256, 48)\n",
      "[41] conv2d_16 (1, 3, 3, 64, 96)\n",
      "[41] conv2d_16 (1, 3, 3, 64, 96)\n",
      "[42] batch_normalization_13 (3, 48)\n",
      "[42] batch_normalization_13 (3, 48)\n",
      "[43] batch_normalization_16 (3, 96)\n",
      "[43] batch_normalization_16 (3, 96)\n",
      "[44] activation_13 (0,)\n",
      "[44] activation_13 (0,)\n",
      "[45] activation_16 (0,)\n",
      "[45] activation_16 (0,)\n",
      "[46] average_pooling2d_1 (0,)\n",
      "[46] average_pooling2d_1 (0,)\n",
      "[47] conv2d_12 (1, 1, 1, 256, 64)\n",
      "[47] conv2d_12 (1, 1, 1, 256, 64)\n",
      "[48] conv2d_14 (1, 5, 5, 48, 64)\n",
      "[48] conv2d_14 (1, 5, 5, 48, 64)\n",
      "[49] conv2d_17 (1, 3, 3, 96, 96)\n",
      "[49] conv2d_17 (1, 3, 3, 96, 96)\n",
      "[50] conv2d_18 (1, 1, 1, 256, 64)\n",
      "[50] conv2d_18 (1, 1, 1, 256, 64)\n",
      "[51] batch_normalization_12 (3, 64)\n",
      "[51] batch_normalization_12 (3, 64)\n",
      "[52] batch_normalization_14 (3, 64)\n",
      "[52] batch_normalization_14 (3, 64)\n",
      "[53] batch_normalization_17 (3, 96)\n",
      "[53] batch_normalization_17 (3, 96)\n",
      "[54] batch_normalization_18 (3, 64)\n",
      "[54] batch_normalization_18 (3, 64)\n",
      "[55] activation_12 (0,)\n",
      "[55] activation_12 (0,)\n",
      "[56] activation_14 (0,)\n",
      "[56] activation_14 (0,)\n",
      "[57] activation_17 (0,)\n",
      "[57] activation_17 (0,)\n",
      "[58] activation_18 (0,)\n",
      "[58] activation_18 (0,)\n",
      "[59] mixed1 (0,)\n",
      "[59] mixed1 (0,)\n",
      "[60] conv2d_22 (1, 1, 1, 288, 64)\n",
      "[60] conv2d_22 (1, 1, 1, 288, 64)\n",
      "[61] batch_normalization_22 (3, 64)\n",
      "[61] batch_normalization_22 (3, 64)\n",
      "[62] activation_22 (0,)\n",
      "[62] activation_22 (0,)\n",
      "[63] conv2d_20 (1, 1, 1, 288, 48)\n",
      "[63] conv2d_20 (1, 1, 1, 288, 48)\n",
      "[64] conv2d_23 (1, 3, 3, 64, 96)\n",
      "[64] conv2d_23 (1, 3, 3, 64, 96)\n",
      "[65] batch_normalization_20 (3, 48)\n",
      "[65] batch_normalization_20 (3, 48)\n",
      "[66] batch_normalization_23 (3, 96)\n",
      "[66] batch_normalization_23 (3, 96)\n",
      "[67] activation_20 (0,)\n",
      "[67] activation_20 (0,)\n",
      "[68] activation_23 (0,)\n",
      "[68] activation_23 (0,)\n",
      "[69] average_pooling2d_2 (0,)\n",
      "[69] average_pooling2d_2 (0,)\n",
      "[70] conv2d_19 (1, 1, 1, 288, 64)\n",
      "[70] conv2d_19 (1, 1, 1, 288, 64)\n",
      "[71] conv2d_21 (1, 5, 5, 48, 64)\n",
      "[71] conv2d_21 (1, 5, 5, 48, 64)\n",
      "[72] conv2d_24 (1, 3, 3, 96, 96)\n",
      "[72] conv2d_24 (1, 3, 3, 96, 96)\n",
      "[73] conv2d_25 (1, 1, 1, 288, 64)\n",
      "[73] conv2d_25 (1, 1, 1, 288, 64)\n",
      "[74] batch_normalization_19 (3, 64)\n",
      "[74] batch_normalization_19 (3, 64)\n",
      "[75] batch_normalization_21 (3, 64)\n",
      "[75] batch_normalization_21 (3, 64)\n",
      "[76] batch_normalization_24 (3, 96)\n",
      "[76] batch_normalization_24 (3, 96)\n",
      "[77] batch_normalization_25 (3, 64)\n",
      "[77] batch_normalization_25 (3, 64)\n",
      "[78] activation_19 (0,)\n",
      "[78] activation_19 (0,)\n",
      "[79] activation_21 (0,)\n",
      "[79] activation_21 (0,)\n",
      "[80] activation_24 (0,)\n",
      "[80] activation_24 (0,)\n",
      "[81] activation_25 (0,)\n",
      "[81] activation_25 (0,)\n",
      "[82] mixed2 (0,)\n",
      "[82] mixed2 (0,)\n",
      "[83] conv2d_27 (1, 1, 1, 288, 64)\n",
      "[83] conv2d_27 (1, 1, 1, 288, 64)\n",
      "[84] batch_normalization_27 (3, 64)\n",
      "[84] batch_normalization_27 (3, 64)\n",
      "[85] activation_27 (0,)\n",
      "[85] activation_27 (0,)\n",
      "[86] conv2d_28 (1, 3, 3, 64, 96)\n",
      "[86] conv2d_28 (1, 3, 3, 64, 96)\n",
      "[87] batch_normalization_28 (3, 96)\n",
      "[87] batch_normalization_28 (3, 96)\n",
      "[88] activation_28 (0,)\n",
      "[88] activation_28 (0,)\n",
      "[89] conv2d_26 (1, 3, 3, 288, 384)\n",
      "[89] conv2d_26 (1, 3, 3, 288, 384)\n",
      "[90] conv2d_29 (1, 3, 3, 96, 96)\n",
      "[90] conv2d_29 (1, 3, 3, 96, 96)\n",
      "[91] batch_normalization_26 (3, 384)\n",
      "[91] batch_normalization_26 (3, 384)\n",
      "[92] batch_normalization_29 (3, 96)\n",
      "[92] batch_normalization_29 (3, 96)\n",
      "[93] activation_26 (0,)\n",
      "[93] activation_26 (0,)\n",
      "[94] activation_29 (0,)\n",
      "[94] activation_29 (0,)\n",
      "[95] max_pooling2d_2 (0,)\n",
      "[95] max_pooling2d_2 (0,)\n",
      "[96] mixed3 (0,)\n",
      "[96] mixed3 (0,)\n",
      "[97] conv2d_34 (1, 1, 1, 768, 128)\n",
      "[97] conv2d_34 (1, 1, 1, 768, 128)\n",
      "[98] batch_normalization_34 (3, 128)\n",
      "[98] batch_normalization_34 (3, 128)\n",
      "[99] activation_34 (0,)\n",
      "[99] activation_34 (0,)\n",
      "[100] conv2d_35 (1, 7, 1, 128, 128)\n",
      "[100] conv2d_35 (1, 7, 1, 128, 128)\n",
      "[101] batch_normalization_35 (3, 128)\n",
      "[101] batch_normalization_35 (3, 128)\n",
      "[102] activation_35 (0,)\n",
      "[102] activation_35 (0,)\n",
      "[103] conv2d_31 (1, 1, 1, 768, 128)\n",
      "[103] conv2d_31 (1, 1, 1, 768, 128)\n",
      "[104] conv2d_36 (1, 1, 7, 128, 128)\n",
      "[104] conv2d_36 (1, 1, 7, 128, 128)\n",
      "[105] batch_normalization_31 (3, 128)\n",
      "[105] batch_normalization_31 (3, 128)\n",
      "[106] batch_normalization_36 (3, 128)\n",
      "[106] batch_normalization_36 (3, 128)\n",
      "[107] activation_31 (0,)\n",
      "[107] activation_31 (0,)\n",
      "[108] activation_36 (0,)\n",
      "[108] activation_36 (0,)\n",
      "[109] conv2d_32 (1, 1, 7, 128, 128)\n",
      "[109] conv2d_32 (1, 1, 7, 128, 128)\n",
      "[110] conv2d_37 (1, 7, 1, 128, 128)\n",
      "[110] conv2d_37 (1, 7, 1, 128, 128)\n",
      "[111] batch_normalization_32 (3, 128)\n",
      "[111] batch_normalization_32 (3, 128)\n",
      "[112] batch_normalization_37 (3, 128)\n",
      "[112] batch_normalization_37 (3, 128)\n",
      "[113] activation_32 (0,)\n",
      "[113] activation_32 (0,)\n",
      "[114] activation_37 (0,)\n",
      "[114] activation_37 (0,)\n",
      "[115] average_pooling2d_3 (0,)\n",
      "[115] average_pooling2d_3 (0,)\n",
      "[116] conv2d_30 (1, 1, 1, 768, 192)\n",
      "[116] conv2d_30 (1, 1, 1, 768, 192)\n",
      "[117] conv2d_33 (1, 7, 1, 128, 192)\n",
      "[117] conv2d_33 (1, 7, 1, 128, 192)\n",
      "[118] conv2d_38 (1, 1, 7, 128, 192)\n",
      "[118] conv2d_38 (1, 1, 7, 128, 192)\n",
      "[119] conv2d_39 (1, 1, 1, 768, 192)\n",
      "[119] conv2d_39 (1, 1, 1, 768, 192)\n",
      "[120] batch_normalization_30 (3, 192)\n",
      "[120] batch_normalization_30 (3, 192)\n",
      "[121] batch_normalization_33 (3, 192)\n",
      "[121] batch_normalization_33 (3, 192)\n",
      "[122] batch_normalization_38 (3, 192)\n",
      "[122] batch_normalization_38 (3, 192)\n",
      "[123] batch_normalization_39 (3, 192)\n",
      "[123] batch_normalization_39 (3, 192)\n",
      "[124] activation_30 (0,)\n",
      "[124] activation_30 (0,)\n",
      "[125] activation_33 (0,)\n",
      "[125] activation_33 (0,)\n",
      "[126] activation_38 (0,)\n",
      "[126] activation_38 (0,)\n",
      "[127] activation_39 (0,)\n",
      "[127] activation_39 (0,)\n",
      "[128] mixed4 (0,)\n",
      "[128] mixed4 (0,)\n",
      "[129] conv2d_44 (1, 1, 1, 768, 160)\n",
      "[129] conv2d_44 (1, 1, 1, 768, 160)\n",
      "[130] batch_normalization_44 (3, 160)\n",
      "[130] batch_normalization_44 (3, 160)\n",
      "[131] activation_44 (0,)\n",
      "[131] activation_44 (0,)\n",
      "[132] conv2d_45 (1, 7, 1, 160, 160)\n",
      "[132] conv2d_45 (1, 7, 1, 160, 160)\n",
      "[133] batch_normalization_45 (3, 160)\n",
      "[133] batch_normalization_45 (3, 160)\n",
      "[134] activation_45 (0,)\n",
      "[134] activation_45 (0,)\n",
      "[135] conv2d_41 (1, 1, 1, 768, 160)\n",
      "[135] conv2d_41 (1, 1, 1, 768, 160)\n",
      "[136] conv2d_46 (1, 1, 7, 160, 160)\n",
      "[136] conv2d_46 (1, 1, 7, 160, 160)\n",
      "[137] batch_normalization_41 (3, 160)\n",
      "[137] batch_normalization_41 (3, 160)\n",
      "[138] batch_normalization_46 (3, 160)\n",
      "[138] batch_normalization_46 (3, 160)\n",
      "[139] activation_41 (0,)\n",
      "[139] activation_41 (0,)\n",
      "[140] activation_46 (0,)\n",
      "[140] activation_46 (0,)\n",
      "[141] conv2d_42 (1, 1, 7, 160, 160)\n",
      "[141] conv2d_42 (1, 1, 7, 160, 160)\n",
      "[142] conv2d_47 (1, 7, 1, 160, 160)\n",
      "[142] conv2d_47 (1, 7, 1, 160, 160)\n",
      "[143] batch_normalization_42 (3, 160)\n",
      "[143] batch_normalization_42 (3, 160)\n",
      "[144] batch_normalization_47 (3, 160)\n",
      "[144] batch_normalization_47 (3, 160)\n",
      "[145] activation_42 (0,)\n",
      "[145] activation_42 (0,)\n",
      "[146] activation_47 (0,)\n",
      "[146] activation_47 (0,)\n",
      "[147] average_pooling2d_4 (0,)\n",
      "[147] average_pooling2d_4 (0,)\n",
      "[148] conv2d_40 (1, 1, 1, 768, 192)\n",
      "[148] conv2d_40 (1, 1, 1, 768, 192)\n",
      "[149] conv2d_43 (1, 7, 1, 160, 192)\n",
      "[149] conv2d_43 (1, 7, 1, 160, 192)\n",
      "[150] conv2d_48 (1, 1, 7, 160, 192)\n",
      "[150] conv2d_48 (1, 1, 7, 160, 192)\n",
      "[151] conv2d_49 (1, 1, 1, 768, 192)\n",
      "[151] conv2d_49 (1, 1, 1, 768, 192)\n",
      "[152] batch_normalization_40 (3, 192)\n",
      "[152] batch_normalization_40 (3, 192)\n",
      "[153] batch_normalization_43 (3, 192)\n",
      "[153] batch_normalization_43 (3, 192)\n",
      "[154] batch_normalization_48 (3, 192)\n",
      "[154] batch_normalization_48 (3, 192)\n",
      "[155] batch_normalization_49 (3, 192)\n",
      "[155] batch_normalization_49 (3, 192)\n",
      "[156] activation_40 (0,)\n",
      "[156] activation_40 (0,)\n",
      "[157] activation_43 (0,)\n",
      "[157] activation_43 (0,)\n",
      "[158] activation_48 (0,)\n",
      "[158] activation_48 (0,)\n",
      "[159] activation_49 (0,)\n",
      "[159] activation_49 (0,)\n",
      "[160] mixed5 (0,)\n",
      "[160] mixed5 (0,)\n",
      "[161] conv2d_54 (1, 1, 1, 768, 160)\n",
      "[161] conv2d_54 (1, 1, 1, 768, 160)\n",
      "[162] batch_normalization_54 (3, 160)\n",
      "[162] batch_normalization_54 (3, 160)\n",
      "[163] activation_54 (0,)\n",
      "[163] activation_54 (0,)\n",
      "[164] conv2d_55 (1, 7, 1, 160, 160)\n",
      "[164] conv2d_55 (1, 7, 1, 160, 160)\n",
      "[165] batch_normalization_55 (3, 160)\n",
      "[165] batch_normalization_55 (3, 160)\n",
      "[166] activation_55 (0,)\n",
      "[166] activation_55 (0,)\n",
      "[167] conv2d_51 (1, 1, 1, 768, 160)\n",
      "[167] conv2d_51 (1, 1, 1, 768, 160)\n",
      "[168] conv2d_56 (1, 1, 7, 160, 160)\n",
      "[168] conv2d_56 (1, 1, 7, 160, 160)\n",
      "[169] batch_normalization_51 (3, 160)\n",
      "[169] batch_normalization_51 (3, 160)\n",
      "[170] batch_normalization_56 (3, 160)\n",
      "[170] batch_normalization_56 (3, 160)\n",
      "[171] activation_51 (0,)\n",
      "[171] activation_51 (0,)\n",
      "[172] activation_56 (0,)\n",
      "[172] activation_56 (0,)\n",
      "[173] conv2d_52 (1, 1, 7, 160, 160)\n",
      "[173] conv2d_52 (1, 1, 7, 160, 160)\n",
      "[174] conv2d_57 (1, 7, 1, 160, 160)\n",
      "[174] conv2d_57 (1, 7, 1, 160, 160)\n",
      "[175] batch_normalization_52 (3, 160)\n",
      "[175] batch_normalization_52 (3, 160)\n",
      "[176] batch_normalization_57 (3, 160)\n",
      "[176] batch_normalization_57 (3, 160)\n",
      "[177] activation_52 (0,)\n",
      "[177] activation_52 (0,)\n",
      "[178] activation_57 (0,)\n",
      "[178] activation_57 (0,)\n",
      "[179] average_pooling2d_5 (0,)\n",
      "[179] average_pooling2d_5 (0,)\n",
      "[180] conv2d_50 (1, 1, 1, 768, 192)\n",
      "[180] conv2d_50 (1, 1, 1, 768, 192)\n",
      "[181] conv2d_53 (1, 7, 1, 160, 192)\n",
      "[181] conv2d_53 (1, 7, 1, 160, 192)\n",
      "[182] conv2d_58 (1, 1, 7, 160, 192)\n",
      "[182] conv2d_58 (1, 1, 7, 160, 192)\n",
      "[183] conv2d_59 (1, 1, 1, 768, 192)\n",
      "[183] conv2d_59 (1, 1, 1, 768, 192)\n",
      "[184] batch_normalization_50 (3, 192)\n",
      "[184] batch_normalization_50 (3, 192)\n",
      "[185] batch_normalization_53 (3, 192)\n",
      "[185] batch_normalization_53 (3, 192)\n",
      "[186] batch_normalization_58 (3, 192)\n",
      "[186] batch_normalization_58 (3, 192)\n",
      "[187] batch_normalization_59 (3, 192)\n",
      "[187] batch_normalization_59 (3, 192)\n",
      "[188] activation_50 (0,)\n",
      "[188] activation_50 (0,)\n",
      "[189] activation_53 (0,)\n",
      "[189] activation_53 (0,)\n",
      "[190] activation_58 (0,)\n",
      "[190] activation_58 (0,)\n",
      "[191] activation_59 (0,)\n",
      "[191] activation_59 (0,)\n",
      "[192] mixed6 (0,)\n",
      "[192] mixed6 (0,)\n",
      "[193] conv2d_64 (1, 1, 1, 768, 192)\n",
      "[193] conv2d_64 (1, 1, 1, 768, 192)\n",
      "[194] batch_normalization_64 (3, 192)\n",
      "[194] batch_normalization_64 (3, 192)\n",
      "[195] activation_64 (0,)\n",
      "[195] activation_64 (0,)\n",
      "[196] conv2d_65 (1, 7, 1, 192, 192)\n",
      "[196] conv2d_65 (1, 7, 1, 192, 192)\n",
      "[197] batch_normalization_65 (3, 192)\n",
      "[197] batch_normalization_65 (3, 192)\n",
      "[198] activation_65 (0,)\n",
      "[198] activation_65 (0,)\n",
      "[199] conv2d_61 (1, 1, 1, 768, 192)\n",
      "[199] conv2d_61 (1, 1, 1, 768, 192)\n",
      "[200] conv2d_66 (1, 1, 7, 192, 192)\n",
      "[200] conv2d_66 (1, 1, 7, 192, 192)\n",
      "[201] batch_normalization_61 (3, 192)\n",
      "[201] batch_normalization_61 (3, 192)\n",
      "[202] batch_normalization_66 (3, 192)\n",
      "[202] batch_normalization_66 (3, 192)\n",
      "[203] activation_61 (0,)\n",
      "[203] activation_61 (0,)\n",
      "[204] activation_66 (0,)\n",
      "[204] activation_66 (0,)\n",
      "[205] conv2d_62 (1, 1, 7, 192, 192)\n",
      "[205] conv2d_62 (1, 1, 7, 192, 192)\n",
      "[206] conv2d_67 (1, 7, 1, 192, 192)\n",
      "[206] conv2d_67 (1, 7, 1, 192, 192)\n",
      "[207] batch_normalization_62 (3, 192)\n",
      "[207] batch_normalization_62 (3, 192)\n",
      "[208] batch_normalization_67 (3, 192)\n",
      "[208] batch_normalization_67 (3, 192)\n",
      "[209] activation_62 (0,)\n",
      "[209] activation_62 (0,)\n",
      "[210] activation_67 (0,)\n",
      "[210] activation_67 (0,)\n",
      "[211] average_pooling2d_6 (0,)\n",
      "[211] average_pooling2d_6 (0,)\n",
      "[212] conv2d_60 (1, 1, 1, 768, 192)\n",
      "[212] conv2d_60 (1, 1, 1, 768, 192)\n",
      "[213] conv2d_63 (1, 7, 1, 192, 192)\n",
      "[213] conv2d_63 (1, 7, 1, 192, 192)\n",
      "[214] conv2d_68 (1, 1, 7, 192, 192)\n",
      "[214] conv2d_68 (1, 1, 7, 192, 192)\n",
      "[215] conv2d_69 (1, 1, 1, 768, 192)\n",
      "[215] conv2d_69 (1, 1, 1, 768, 192)\n",
      "[216] batch_normalization_60 (3, 192)\n",
      "[216] batch_normalization_60 (3, 192)\n",
      "[217] batch_normalization_63 (3, 192)\n",
      "[217] batch_normalization_63 (3, 192)\n",
      "[218] batch_normalization_68 (3, 192)\n",
      "[218] batch_normalization_68 (3, 192)\n",
      "[219] batch_normalization_69 (3, 192)\n",
      "[219] batch_normalization_69 (3, 192)\n",
      "[220] activation_60 (0,)\n",
      "[220] activation_60 (0,)\n",
      "[221] activation_63 (0,)\n",
      "[221] activation_63 (0,)\n",
      "[222] activation_68 (0,)\n",
      "[222] activation_68 (0,)\n",
      "[223] activation_69 (0,)\n",
      "[223] activation_69 (0,)\n",
      "[224] mixed7 (0,)\n",
      "[224] mixed7 (0,)\n",
      "[225] conv2d_72 (1, 1, 1, 768, 192)\n",
      "[225] conv2d_72 (1, 1, 1, 768, 192)\n",
      "[226] batch_normalization_72 (3, 192)\n",
      "[226] batch_normalization_72 (3, 192)\n",
      "[227] activation_72 (0,)\n",
      "[227] activation_72 (0,)\n",
      "[228] conv2d_73 (1, 1, 7, 192, 192)\n",
      "[228] conv2d_73 (1, 1, 7, 192, 192)\n",
      "[229] batch_normalization_73 (3, 192)\n",
      "[229] batch_normalization_73 (3, 192)\n",
      "[230] activation_73 (0,)\n",
      "[230] activation_73 (0,)\n",
      "[231] conv2d_70 (1, 1, 1, 768, 192)\n",
      "[231] conv2d_70 (1, 1, 1, 768, 192)\n",
      "[232] conv2d_74 (1, 7, 1, 192, 192)\n",
      "[232] conv2d_74 (1, 7, 1, 192, 192)\n",
      "[233] batch_normalization_70 (3, 192)\n",
      "[233] batch_normalization_70 (3, 192)\n",
      "[234] batch_normalization_74 (3, 192)\n",
      "[234] batch_normalization_74 (3, 192)\n",
      "[235] activation_70 (0,)\n",
      "[235] activation_70 (0,)\n",
      "[236] activation_74 (0,)\n",
      "[236] activation_74 (0,)\n",
      "[237] conv2d_71 (1, 3, 3, 192, 320)\n",
      "[237] conv2d_71 (1, 3, 3, 192, 320)\n",
      "[238] conv2d_75 (1, 3, 3, 192, 192)\n",
      "[238] conv2d_75 (1, 3, 3, 192, 192)\n",
      "[239] batch_normalization_71 (3, 320)\n",
      "[239] batch_normalization_71 (3, 320)\n",
      "[240] batch_normalization_75 (3, 192)\n",
      "[240] batch_normalization_75 (3, 192)\n",
      "[241] activation_71 (0,)\n",
      "[241] activation_71 (0,)\n",
      "[242] activation_75 (0,)\n",
      "[242] activation_75 (0,)\n",
      "[243] max_pooling2d_3 (0,)\n",
      "[243] max_pooling2d_3 (0,)\n",
      "[244] mixed8 (0,)\n",
      "[244] mixed8 (0,)\n",
      "[245] conv2d_80 (1, 1, 1, 1280, 448)\n",
      "[245] conv2d_80 (1, 1, 1, 1280, 448)\n",
      "[246] batch_normalization_80 (3, 448)\n",
      "[246] batch_normalization_80 (3, 448)\n",
      "[247] activation_80 (0,)\n",
      "[247] activation_80 (0,)\n",
      "[248] conv2d_77 (1, 1, 1, 1280, 384)\n",
      "[248] conv2d_77 (1, 1, 1, 1280, 384)\n",
      "[249] conv2d_81 (1, 3, 3, 448, 384)\n",
      "[249] conv2d_81 (1, 3, 3, 448, 384)\n",
      "[250] batch_normalization_77 (3, 384)\n",
      "[250] batch_normalization_77 (3, 384)\n",
      "[251] batch_normalization_81 (3, 384)\n",
      "[251] batch_normalization_81 (3, 384)\n",
      "[252] activation_77 (0,)\n",
      "[252] activation_77 (0,)\n",
      "[253] activation_81 (0,)\n",
      "[253] activation_81 (0,)\n",
      "[254] conv2d_78 (1, 1, 3, 384, 384)\n",
      "[254] conv2d_78 (1, 1, 3, 384, 384)\n",
      "[255] conv2d_79 (1, 3, 1, 384, 384)\n",
      "[255] conv2d_79 (1, 3, 1, 384, 384)\n",
      "[256] conv2d_82 (1, 1, 3, 384, 384)\n",
      "[256] conv2d_82 (1, 1, 3, 384, 384)\n",
      "[257] conv2d_83 (1, 3, 1, 384, 384)\n",
      "[257] conv2d_83 (1, 3, 1, 384, 384)\n",
      "[258] average_pooling2d_7 (0,)\n",
      "[258] average_pooling2d_7 (0,)\n",
      "[259] conv2d_76 (1, 1, 1, 1280, 320)\n",
      "[259] conv2d_76 (1, 1, 1, 1280, 320)\n",
      "[260] batch_normalization_78 (3, 384)\n",
      "[260] batch_normalization_78 (3, 384)\n",
      "[261] batch_normalization_79 (3, 384)\n",
      "[261] batch_normalization_79 (3, 384)\n",
      "[262] batch_normalization_82 (3, 384)\n",
      "[262] batch_normalization_82 (3, 384)\n",
      "[263] batch_normalization_83 (3, 384)\n",
      "[263] batch_normalization_83 (3, 384)\n",
      "[264] conv2d_84 (1, 1, 1, 1280, 192)\n",
      "[264] conv2d_84 (1, 1, 1, 1280, 192)\n",
      "[265] batch_normalization_76 (3, 320)\n",
      "[265] batch_normalization_76 (3, 320)\n",
      "[266] activation_78 (0,)\n",
      "[266] activation_78 (0,)\n",
      "[267] activation_79 (0,)\n",
      "[267] activation_79 (0,)\n",
      "[268] activation_82 (0,)\n",
      "[268] activation_82 (0,)\n",
      "[269] activation_83 (0,)\n",
      "[269] activation_83 (0,)\n",
      "[270] batch_normalization_84 (3, 192)\n",
      "[270] batch_normalization_84 (3, 192)\n",
      "[271] activation_76 (0,)\n",
      "[271] activation_76 (0,)\n",
      "[272] mixed9_0 (0,)\n",
      "[272] mixed9_0 (0,)\n",
      "[273] concatenate (0,)\n",
      "[273] concatenate (0,)\n",
      "[274] activation_84 (0,)\n",
      "[274] activation_84 (0,)\n",
      "[275] mixed9 (0,)\n",
      "[275] mixed9 (0,)\n",
      "[276] conv2d_89 (1, 1, 1, 2048, 448)\n",
      "[276] conv2d_89 (1, 1, 1, 2048, 448)\n",
      "[277] batch_normalization_89 (3, 448)\n",
      "[277] batch_normalization_89 (3, 448)\n",
      "[278] activation_89 (0,)\n",
      "[278] activation_89 (0,)\n",
      "[279] conv2d_86 (1, 1, 1, 2048, 384)\n",
      "[279] conv2d_86 (1, 1, 1, 2048, 384)\n",
      "[280] conv2d_90 (1, 3, 3, 448, 384)\n",
      "[280] conv2d_90 (1, 3, 3, 448, 384)\n",
      "[281] batch_normalization_86 (3, 384)\n",
      "[281] batch_normalization_86 (3, 384)\n",
      "[282] batch_normalization_90 (3, 384)\n",
      "[282] batch_normalization_90 (3, 384)\n",
      "[283] activation_86 (0,)\n",
      "[283] activation_86 (0,)\n",
      "[284] activation_90 (0,)\n",
      "[284] activation_90 (0,)\n",
      "[285] conv2d_87 (1, 1, 3, 384, 384)\n",
      "[285] conv2d_87 (1, 1, 3, 384, 384)\n",
      "[286] conv2d_88 (1, 3, 1, 384, 384)\n",
      "[286] conv2d_88 (1, 3, 1, 384, 384)\n",
      "[287] conv2d_91 (1, 1, 3, 384, 384)\n",
      "[287] conv2d_91 (1, 1, 3, 384, 384)\n",
      "[288] conv2d_92 (1, 3, 1, 384, 384)\n",
      "[288] conv2d_92 (1, 3, 1, 384, 384)\n",
      "[289] average_pooling2d_8 (0,)\n",
      "[289] average_pooling2d_8 (0,)\n",
      "[290] conv2d_85 (1, 1, 1, 2048, 320)\n",
      "[290] conv2d_85 (1, 1, 1, 2048, 320)\n",
      "[291] batch_normalization_87 (3, 384)\n",
      "[291] batch_normalization_87 (3, 384)\n",
      "[292] batch_normalization_88 (3, 384)\n",
      "[292] batch_normalization_88 (3, 384)\n",
      "[293] batch_normalization_91 (3, 384)\n",
      "[293] batch_normalization_91 (3, 384)\n",
      "[294] batch_normalization_92 (3, 384)\n",
      "[294] batch_normalization_92 (3, 384)\n",
      "[295] conv2d_93 (1, 1, 1, 2048, 192)\n",
      "[295] conv2d_93 (1, 1, 1, 2048, 192)\n",
      "[296] batch_normalization_85 (3, 320)\n",
      "[296] batch_normalization_85 (3, 320)\n",
      "[297] activation_87 (0,)\n",
      "[297] activation_87 (0,)\n",
      "[298] activation_88 (0,)\n",
      "[298] activation_88 (0,)\n",
      "[299] activation_91 (0,)\n",
      "[299] activation_91 (0,)\n",
      "[300] activation_92 (0,)\n",
      "[300] activation_92 (0,)\n",
      "[301] batch_normalization_93 (3, 192)\n",
      "[301] batch_normalization_93 (3, 192)\n",
      "[302] activation_85 (0,)\n",
      "[302] activation_85 (0,)\n",
      "[303] mixed9_1 (0,)\n",
      "[303] mixed9_1 (0,)\n",
      "[304] concatenate_1 (0,)\n",
      "[304] concatenate_1 (0,)\n",
      "[305] activation_93 (0,)\n",
      "[305] activation_93 (0,)\n",
      "[306] mixed10 (0,)\n",
      "[306] mixed10 (0,)\n",
      "[307] global_average_pooling2d (0,)\n",
      "[307] global_average_pooling2d (0,)\n",
      "[308] dense (2,)\n",
      "[308] dense (2,)\n",
      "[309] dense_1 (2,)\n",
      "[309] dense_1 (2,)\n"
     ]
    }
   ],
   "metadata": {}
  },
  {
   "cell_type": "code",
   "execution_count": null,
   "source": [],
   "outputs": [],
   "metadata": {}
  },
  {
   "cell_type": "code",
   "execution_count": 60,
   "source": [
    "# import numpy as np\n",
    "# # weights = [layer.get_weights() for layer in org_model.layers]\n",
    "# for index, layer in enumerate(org_model.layers):\n",
    "#     weight = layer.get_weights()\n",
    "#     print(\"O [%d] %s %s\" % (index, layer.name, str(np.shape(weight))))\n",
    "\n",
    "    # new_model_layer = new_model.layers[index]\n",
    "    # print(\"N [%d] %s %s\" % (index, new_model_layer.name, str(np.shape(new_model_layer.get_weights()))))\n",
    "    # new_model_layer.set_weights(weight)\n",
    "    # print(layer)\n",
    "# len(weights[1][0][0][0][0])\n",
    "# for layer, weight in zip(new_model.layers[2:], weights):\n",
    "#     print(tf.shape(weights))\n",
    "#     # print(layer)\n",
    "#     # layer.set_weights(weight)"
   ],
   "outputs": [],
   "metadata": {}
  },
  {
   "cell_type": "code",
   "execution_count": 61,
   "source": [
    "# iterate over all the layers that we want to get weights from\n",
    "# weights = [layer.get_weights() for layer in model.layers[2:]]\n",
    "# for layer, weight in zip(new_model.layers[2:], weights):\n",
    "#     # print(layer)\n",
    "#     layer.set_weights(weight)"
   ],
   "outputs": [],
   "metadata": {}
  },
  {
   "cell_type": "code",
   "execution_count": 42,
   "source": [
    "# tail_model = tf.keras.Model(inputs=old_model.layers[0], outputs=old_model.output)\n",
    "# decoder.summary(line_length=150)\n"
   ],
   "outputs": [],
   "metadata": {}
  },
  {
   "cell_type": "code",
   "execution_count": 62,
   "source": [
    "last_encoder_layer = 3\n",
    "\n",
    "hidden_layer = new_head_model(sample_img_batch)\n",
    "# print(type(old_model.layers[last_encoder_layer]))\n",
    "print(tf.shape(hidden_layer))\n",
    "# head_model_output = head_model.output\n",
    "# tf.keras.Input(old_model.layers[2])\n",
    "# tail_model = tf.keras.Model(inputs=tf.keras.Input(old_model.layers[2]), outputs=old_model.output)\n",
    "\n",
    "new_head_model.summary(line_length=150)\n",
    "\n"
   ],
   "outputs": [
    {
     "output_type": "stream",
     "name": "stdout",
     "text": [
      "tf.Tensor([  1 149 149  32], shape=(4,), dtype=int32)\n",
      "Model: \"head_model\"\n",
      "______________________________________________________________________________________________________________________________________________________\n",
      "Layer (type)                                                       Output Shape                                                Param #                \n",
      "======================================================================================================================================================\n",
      "input_1 (InputLayer)                                               [(None, None, None, 3)]                                     0                      \n",
      "______________________________________________________________________________________________________________________________________________________\n",
      "conv2d (Conv2D)                                                    (None, None, None, 32)                                      864                    \n",
      "______________________________________________________________________________________________________________________________________________________\n",
      "batch_normalization (BatchNormalization)                           (None, None, None, 32)                                      96                     \n",
      "______________________________________________________________________________________________________________________________________________________\n",
      "activation (Activation)                                            (None, None, None, 32)                                      0                      \n",
      "======================================================================================================================================================\n",
      "Total params: 960\n",
      "Trainable params: 896\n",
      "Non-trainable params: 64\n",
      "______________________________________________________________________________________________________________________________________________________\n"
     ]
    }
   ],
   "metadata": {}
  },
  {
   "cell_type": "code",
   "execution_count": 65,
   "source": [
    "tf.shape(hidden_layer)"
   ],
   "outputs": [
    {
     "output_type": "execute_result",
     "data": {
      "text/plain": [
       "<tf.Tensor: shape=(4,), dtype=int32, numpy=array([  1, 149, 149,  32], dtype=int32)>"
      ]
     },
     "metadata": {},
     "execution_count": 65
    }
   ],
   "metadata": {}
  },
  {
   "cell_type": "code",
   "execution_count": 63,
   "source": [
    "predictions = new_tail_model(hidden_layer)\n",
    "# # head_model.summary(line_length=150)\n",
    "print(tf.shape(predictions))\n"
   ],
   "outputs": [
    {
     "output_type": "stream",
     "name": "stdout",
     "text": [
      "tf.Tensor([ 1 80], shape=(2,), dtype=int32)\n"
     ]
    }
   ],
   "metadata": {}
  },
  {
   "cell_type": "code",
   "execution_count": 64,
   "source": [
    "for test_index in range(10):\n",
    "    sample_img_batch, sample_cap_batch = next(iter(ds_val))\n",
    "    h = new_head_model(sample_img_batch)\n",
    "    s = new_tail_model(h)\n",
    "\n",
    "    # plt.imshow(tf.squeeze(sample_img_batch, [0]))\n",
    "\n",
    "    print(\"Reference:\")\n",
    "    n = sample_cap_batch.numpy()\n",
    "    index = 0\n",
    "    for x in n[0]:\n",
    "        if x > 0.1:\n",
    "            print(\"%s,\" % (classes[index]), end=' ')\n",
    "        index += 1\n",
    "    print(\"\")\n",
    "    print(\"Prediction:\")\n",
    "    n = s.numpy()\n",
    "    index = 0\n",
    "    for x in n[0]:\n",
    "        if x > 0.5:\n",
    "            print(\"%s(%.2f),\" % (classes[index],x), end=' ')\n",
    "        index += 1\n",
    "    print(\"\")"
   ],
   "outputs": [
    {
     "output_type": "stream",
     "name": "stdout",
     "text": [
      "Reference:\n",
      "person, tennis racket, \n",
      "Prediction:\n",
      "person(0.99), sports ball(0.52), tennis racket(1.00), \n",
      "Reference:\n",
      "person, tennis racket, \n",
      "Prediction:\n",
      "person(0.99), sports ball(0.52), tennis racket(1.00), \n",
      "Reference:\n",
      "person, tennis racket, \n",
      "Prediction:\n",
      "person(0.99), sports ball(0.52), tennis racket(1.00), \n",
      "Reference:\n",
      "person, car, handbag, \n",
      "Prediction:\n",
      "person(0.96), skateboard(0.89), \n",
      "Reference:\n",
      "person, tennis racket, \n",
      "Prediction:\n",
      "person(0.99), sports ball(0.52), tennis racket(1.00), \n",
      "Reference:\n",
      "remote, book, \n",
      "Prediction:\n",
      "bottle(0.54), \n",
      "Reference:\n",
      "bottle, cup, oven, sink, \n",
      "Prediction:\n",
      "oven(0.53), sink(0.63), \n",
      "Reference:\n",
      "person, car, handbag, \n",
      "Prediction:\n",
      "person(0.96), skateboard(0.89), \n",
      "Reference:\n",
      "person, bus, book, \n",
      "Prediction:\n",
      "bus(0.99), \n",
      "Reference:\n",
      "person, car, handbag, \n",
      "Prediction:\n",
      "person(0.96), skateboard(0.89), \n"
     ]
    }
   ],
   "metadata": {}
  },
  {
   "cell_type": "code",
   "execution_count": null,
   "source": [],
   "outputs": [],
   "metadata": {}
  }
 ],
 "metadata": {
  "accelerator": "GPU",
  "colab": {
   "collapsed_sections": [],
   "name": "coco_training.ipynb",
   "provenance": []
  },
  "kernelspec": {
   "display_name": "py373",
   "language": "python",
   "name": "py373"
  },
  "language_info": {
   "codemirror_mode": {
    "name": "ipython",
    "version": 3
   },
   "file_extension": ".py",
   "mimetype": "text/x-python",
   "name": "python",
   "nbconvert_exporter": "python",
   "pygments_lexer": "ipython3",
   "version": "3.7.10"
  }
 },
 "nbformat": 4,
 "nbformat_minor": 2
}