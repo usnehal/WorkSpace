{
 "cells": [
  {
   "cell_type": "code",
   "execution_count": 89,
   "metadata": {},
   "outputs": [],
   "source": [
    "import json\n",
    "import random\n",
    "import os\n",
    "import shutil\n"
   ]
  },
  {
   "cell_type": "code",
   "execution_count": 90,
   "metadata": {},
   "outputs": [],
   "source": [
    "coco_dir = '/home/suphale/snehal_bucket/coco/raw-data'\n",
    "annotation_dir = coco_dir + '/annotations'\n",
    "train_2017_dir = coco_dir + '/train2017'\n",
    "captions_val2017_json = annotation_dir + '/captions_val2017.json'\n",
    "captions_train2017_json = annotation_dir + '/captions_train2017.json'\n",
    "\n",
    "test_image_dir = '/home/suphale/WorkSpace/test_images'\n",
    "test_image_captions_txt = test_image_dir + '/captions.txt'\n",
    "\n",
    "total_test_images = 128"
   ]
  },
  {
   "cell_type": "code",
   "execution_count": 91,
   "metadata": {},
   "outputs": [],
   "source": [
    "f = open(captions_train2017_json,)\n",
    "data = json.load(f)"
   ]
  },
  {
   "cell_type": "code",
   "execution_count": 92,
   "metadata": {},
   "outputs": [],
   "source": [
    "shutil.rmtree(test_image_dir,ignore_errors = True)\n",
    "os.mkdir(test_image_dir)\n",
    "captions_file = open(test_image_captions_txt, \"w\")"
   ]
  },
  {
   "cell_type": "code",
   "execution_count": 93,
   "metadata": {},
   "outputs": [],
   "source": [
    "total_images = len(data['images'])\n",
    "if (total_images < total_test_images):\n",
    "    total_test_images = total_images\n",
    "print(\"total images = %d total test images = %d\" % (total_images,total_test_images))\n",
    "random_list = random.choices(data['images'],k=total_test_images)\n",
    "for x in random_list:\n",
    "    file_name= x['file_name']\n",
    "    coco_url= x['coco_url']\n",
    "    image_id = x['id']\n",
    "    # print(file_name)\n",
    "    # print(coco_url)\n",
    "    for a in data['annotations']:\n",
    "        if(a['image_id'] == image_id):\n",
    "            #print(file_name + ',' + a['caption'])\n",
    "            # print(train_2017_dir + '/' + file_name)\n",
    "            shutil.copyfile(train_2017_dir + '/' + file_name, test_image_dir + '/' + file_name)\n",
    "            captions_file.write(file_name + ',' + a['caption']+'\\n')\n",
    "\n",
    "captions_file.close()"
   ]
  },
  {
   "cell_type": "code",
   "execution_count": 94,
   "metadata": {},
   "outputs": [],
   "source": [
    "# data['images'][0]"
   ]
  },
  {
   "cell_type": "code",
   "execution_count": null,
   "metadata": {},
   "outputs": [],
   "source": []
  }
 ],
 "metadata": {
  "interpreter": {
   "hash": "816cef38ea687650e949fdc77c52b212eb7dd6fea03cacb31ef1316559bec641"
  },
  "kernelspec": {
   "display_name": "Python 3.7.10 64-bit ('py37': conda)",
   "name": "python3"
  },
  "language_info": {
   "name": "python",
   "version": ""
  },
  "orig_nbformat": 4
 },
 "nbformat": 4,
 "nbformat_minor": 2
}