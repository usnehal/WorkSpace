{
 "cells": [
  {
   "cell_type": "code",
   "execution_count": 1,
   "metadata": {},
   "outputs": [],
   "source": [
    "import json\n",
    "import random\n",
    "import os\n",
    "import shutil\n",
    "import socket\n",
    "from tqdm import tqdm\n",
    "import pandas as pd\n"
   ]
  },
  {
   "cell_type": "code",
   "execution_count": 9,
   "metadata": {},
   "outputs": [
    {
     "name": "stdout",
     "output_type": "stream",
     "text": [
      "Filesystem     1K-blocks     Used Available Use% Mounted on\r\n",
      "udev            16457900        0  16457900   0% /dev\r\n",
      "tmpfs            3293880     8784   3285096   1% /run\r\n",
      "/dev/sda1       50633320 33322272  17294664  66% /\r\n",
      "tmpfs           16469388        0  16469388   0% /dev/shm\r\n",
      "tmpfs               5120        0      5120   0% /run/lock\r\n",
      "tmpfs           16469388        0  16469388   0% /sys/fs/cgroup\r\n",
      "/dev/sda15        106858     3704    103155   4% /boot/efi\r\n",
      "tmpfs            3293880        0   3293880   0% /run/user/1002\r\n"
     ]
    }
   ],
   "source": [
    "!df"
   ]
  },
  {
   "cell_type": "code",
   "execution_count": 2,
   "metadata": {},
   "outputs": [],
   "source": [
    "in_nimble = False\n",
    "in_WSL = False\n",
    "in_tpu = False\n",
    "in_pi = False\n",
    "\n",
    "host = socket.gethostname()\n",
    "if('cuda' in host):\n",
    "    in_nimble = True\n",
    "    print(\"In NimbleBox\")\n",
    "if(host == 'LTsuphale-NC2JM'):\n",
    "    in_WSL = True\n",
    "    print(\"In WSL\")    \n",
    "if(host == 'raspberrypi'):\n",
    "    in_pi = True\n",
    "    print(\"In raspberry-pi\")    "
   ]
  },
  {
   "cell_type": "code",
   "execution_count": 14,
   "metadata": {},
   "outputs": [
    {
     "name": "stdout",
     "output_type": "stream",
     "text": [
      "./lists/captions_5000.txt\n"
     ]
    }
   ],
   "source": [
    "copy_required = False\n",
    "# total_test_images = 118287\n",
    "total_test_images   = 5000\n",
    "\n",
    "if(in_WSL == True):\n",
    "    coco_dir = '/home/suphale/snehal_bucket/coco/raw-data'\n",
    "    test_image_dir = '/home/suphale/WorkSpace/test_images'\n",
    "#     test_image_dir = train_2017_dir\n",
    "    test_image_captions_txt = test_image_dir + '/captions.txt'\n",
    "if(in_nimble == True):\n",
    "    coco_dir = '/mnt/disks/user/project/coco'\n",
    "    # test_image_dir = '/mnt/disks/user/project/WorkSpace/test_images'\n",
    "if(in_nimble == True):\n",
    "    coco_dir = '/mnt/disks/user/project/coco'\n",
    "    # test_image_dir = '/mnt/disks/user/project/WorkSpace/test_images'\n",
    "\n",
    "coco_dir = '/home/suphale/coco/downloads'\n",
    "annotation_dir = coco_dir + '/annotations'\n",
    "train_2017_dir = coco_dir + '/train2017'\n",
    "test_image_dir = train_2017_dir\n",
    "captions_val2017_json = annotation_dir + '/captions_val2017.json'\n",
    "captions_train2017_json = annotation_dir + '/captions_train2017.json'\n",
    "instances_train2017_json = annotation_dir + '/instances_train2017.json'\n",
    "instances_val2017_json = annotation_dir + '/instances_val2017.json'\n",
    "\n",
    "test_image_captions_txt = './lists/captions_' + str(total_test_images) + '.txt'\n",
    "test_image_list_txt = './lists/images_' + str(total_test_images) + '.txt'\n",
    "test_instances_list_txt = './lists/instances_' + str(total_test_images) + '.txt'\n",
    "if(test_image_dir == train_2017_dir):\n",
    "    copy_required = False\n",
    "print(test_image_captions_txt)"
   ]
  },
  {
   "cell_type": "code",
   "execution_count": 15,
   "metadata": {},
   "outputs": [],
   "source": [
    "f = open(instances_val2017_json,)\n",
    "data_instances = json.load(f)"
   ]
  },
  {
   "cell_type": "code",
   "execution_count": 16,
   "metadata": {},
   "outputs": [],
   "source": [
    "f = open(captions_val2017_json,)\n",
    "data_captions = json.load(f)"
   ]
  },
  {
   "cell_type": "code",
   "execution_count": 17,
   "metadata": {},
   "outputs": [],
   "source": [
    "if(copy_required == True):\n",
    "    shutil.rmtree(test_image_dir,ignore_errors = True)\n",
    "    os.mkdir(test_image_dir)\n",
    "captions_file = open(test_image_captions_txt, \"w\")\n",
    "image_list_file = open(test_image_list_txt, \"w\")\n",
    "instances_list_file = open(test_instances_list_txt, \"w\")"
   ]
  },
  {
   "cell_type": "code",
   "execution_count": 18,
   "metadata": {},
   "outputs": [
    {
     "name": "stderr",
     "output_type": "stream",
     "text": [
      "  0%|          | 9/5000 [00:00<01:55, 43.20it/s]"
     ]
    },
    {
     "name": "stdout",
     "output_type": "stream",
     "text": [
      "total_images = 5000\n",
      "total_test_images = 5000\n",
      "total images = 5000 total test images = 5000\n"
     ]
    },
    {
     "name": "stderr",
     "output_type": "stream",
     "text": [
      "100%|██████████| 5000/5000 [02:16<00:00, 36.68it/s]\n"
     ]
    }
   ],
   "source": [
    "total_images = len(data_captions['images'])\n",
    "print(\"total_images = %d\" % (total_images))\n",
    "print(\"total_test_images = %d\" % (total_test_images))\n",
    "df_caption = pd.DataFrame(columns = ['FileName' , 'Caption']) \n",
    "df_annotation = pd.DataFrame(columns = ['FileName' , 'Caption']) \n",
    "\n",
    "if (total_images < total_test_images):\n",
    "    total_test_images = total_images\n",
    "print(\"total images = %d total test images = %d\" % (total_images,total_test_images))\n",
    "random_list = random.choices(data_captions['images'],k=total_test_images)\n",
    "for x in tqdm(random_list):\n",
    "    file_name= x['file_name']\n",
    "    image_id = x['id']\n",
    "    image_list_file.write(file_name+'\\n')\n",
    "    if(copy_required == True):\n",
    "        shutil.copyfile(train_2017_dir + '/' + file_name, test_image_dir + '/' + file_name)\n",
    "    for a in data_captions['annotations']:\n",
    "        if(a['image_id'] == image_id):\n",
    "            captions_file.write(file_name + ',' + a['caption']+'\\n')\n",
    "            series_obj = pd.Series( [file_name, a['caption']], index=df_caption.columns )\n",
    "            df_caption = df_caption.append( series_obj, ignore_index=True)\n",
    "    for a in data_instances['annotations']:\n",
    "        if(a['image_id'] == image_id):\n",
    "            instances_list_file.write(file_name + ',' + str(a['category_id'])+'\\n')\n",
    "            series_obj = pd.Series( [file_name, a['category_id']], index=df_annotation.columns )\n",
    "            df_annotation = df_annotation.append( series_obj, ignore_index=True)\n",
    "\n",
    "captions_file.close()\n",
    "image_list_file.close()\n",
    "instances_list_file.close()\n",
    "df_caption.to_csv('df_caption.csv')\n",
    "df_annotation.to_csv('df_annotation.csv')\n"
   ]
  },
  {
   "cell_type": "code",
   "execution_count": 19,
   "metadata": {},
   "outputs": [],
   "source": [
    "# data['images'][0]"
   ]
  },
  {
   "cell_type": "code",
   "execution_count": 20,
   "metadata": {},
   "outputs": [],
   "source": [
    "df_categories = pd.DataFrame(columns = ['id' , 'name'])\n",
    "for x in data_instances['categories']:\n",
    "    series_obj = pd.Series( [x['id'], x['name']], index=df_categories.columns )\n",
    "    df_categories = df_categories.append( series_obj, ignore_index=True)\n",
    "df_categories.to_csv('categories.csv')"
   ]
  },
  {
   "cell_type": "code",
   "execution_count": 21,
   "metadata": {},
   "outputs": [
    {
     "data": {
      "text/html": [
       "<div>\n",
       "<style scoped>\n",
       "    .dataframe tbody tr th:only-of-type {\n",
       "        vertical-align: middle;\n",
       "    }\n",
       "\n",
       "    .dataframe tbody tr th {\n",
       "        vertical-align: top;\n",
       "    }\n",
       "\n",
       "    .dataframe thead th {\n",
       "        text-align: right;\n",
       "    }\n",
       "</style>\n",
       "<table border=\"1\" class=\"dataframe\">\n",
       "  <thead>\n",
       "    <tr style=\"text-align: right;\">\n",
       "      <th></th>\n",
       "      <th>FileName</th>\n",
       "      <th>Caption</th>\n",
       "    </tr>\n",
       "  </thead>\n",
       "  <tbody>\n",
       "    <tr>\n",
       "      <th>0</th>\n",
       "      <td>000000213224.jpg</td>\n",
       "      <td>A vase filled with flowers next to a smaller v...</td>\n",
       "    </tr>\n",
       "    <tr>\n",
       "      <th>1</th>\n",
       "      <td>000000213224.jpg</td>\n",
       "      <td>Two vases filled with flowers on a table.</td>\n",
       "    </tr>\n",
       "    <tr>\n",
       "      <th>2</th>\n",
       "      <td>000000213224.jpg</td>\n",
       "      <td>Two vases of fresh flowers sit on top of the t...</td>\n",
       "    </tr>\n",
       "    <tr>\n",
       "      <th>3</th>\n",
       "      <td>000000213224.jpg</td>\n",
       "      <td>a small vase and a large vase of flowers on a ...</td>\n",
       "    </tr>\n",
       "    <tr>\n",
       "      <th>4</th>\n",
       "      <td>000000213224.jpg</td>\n",
       "      <td>A wooden table holding two vases of flowers.</td>\n",
       "    </tr>\n",
       "    <tr>\n",
       "      <th>...</th>\n",
       "      <td>...</td>\n",
       "      <td>...</td>\n",
       "    </tr>\n",
       "    <tr>\n",
       "      <th>25006</th>\n",
       "      <td>000000349860.jpg</td>\n",
       "      <td>A BOY WITH A BLUE SHIRT AND JEAN PANTS DOING A...</td>\n",
       "    </tr>\n",
       "    <tr>\n",
       "      <th>25007</th>\n",
       "      <td>000000349860.jpg</td>\n",
       "      <td>a young man doing a jump with his skateboard i...</td>\n",
       "    </tr>\n",
       "    <tr>\n",
       "      <th>25008</th>\n",
       "      <td>000000349860.jpg</td>\n",
       "      <td>A man has jumped a ramp with his skateboard.</td>\n",
       "    </tr>\n",
       "    <tr>\n",
       "      <th>25009</th>\n",
       "      <td>000000349860.jpg</td>\n",
       "      <td>a man in the air with a skateboard above a hal...</td>\n",
       "    </tr>\n",
       "    <tr>\n",
       "      <th>25010</th>\n",
       "      <td>000000349860.jpg</td>\n",
       "      <td>A man is in mid air doing a skateboard trick.</td>\n",
       "    </tr>\n",
       "  </tbody>\n",
       "</table>\n",
       "<p>25011 rows × 2 columns</p>\n",
       "</div>"
      ],
      "text/plain": [
       "               FileName                                            Caption\n",
       "0      000000213224.jpg  A vase filled with flowers next to a smaller v...\n",
       "1      000000213224.jpg          Two vases filled with flowers on a table.\n",
       "2      000000213224.jpg  Two vases of fresh flowers sit on top of the t...\n",
       "3      000000213224.jpg  a small vase and a large vase of flowers on a ...\n",
       "4      000000213224.jpg       A wooden table holding two vases of flowers.\n",
       "...                 ...                                                ...\n",
       "25006  000000349860.jpg  A BOY WITH A BLUE SHIRT AND JEAN PANTS DOING A...\n",
       "25007  000000349860.jpg  a young man doing a jump with his skateboard i...\n",
       "25008  000000349860.jpg       A man has jumped a ramp with his skateboard.\n",
       "25009  000000349860.jpg  a man in the air with a skateboard above a hal...\n",
       "25010  000000349860.jpg      A man is in mid air doing a skateboard trick.\n",
       "\n",
       "[25011 rows x 2 columns]"
      ]
     },
     "execution_count": 21,
     "metadata": {},
     "output_type": "execute_result"
    }
   ],
   "source": [
    "df_caption"
   ]
  },
  {
   "cell_type": "code",
   "execution_count": null,
   "metadata": {},
   "outputs": [],
   "source": []
  }
 ],
 "metadata": {
  "interpreter": {
   "hash": "816cef38ea687650e949fdc77c52b212eb7dd6fea03cacb31ef1316559bec641"
  },
  "kernelspec": {
   "display_name": "py373",
   "language": "python",
   "name": "py373"
  },
  "language_info": {
   "codemirror_mode": {
    "name": "ipython",
    "version": 3
   },
   "file_extension": ".py",
   "mimetype": "text/x-python",
   "name": "python",
   "nbconvert_exporter": "python",
   "pygments_lexer": "ipython3",
   "version": "3.7.3"
  }
 },
 "nbformat": 4,
 "nbformat_minor": 2
}
