{
 "cells": [
  {
   "cell_type": "code",
   "execution_count": 1,
   "source": [
    "import json\n",
    "import random\n",
    "import os\n",
    "import shutil\n",
    "import socket\n",
    "from tqdm import tqdm\n",
    "import pandas as pd\n"
   ],
   "outputs": [],
   "metadata": {}
  },
  {
   "cell_type": "code",
   "execution_count": 2,
   "source": [
    "!df"
   ],
   "outputs": [
    {
     "output_type": "stream",
     "name": "stdout",
     "text": [
      "Filesystem     1K-blocks      Used Available Use% Mounted on\n",
      "/dev/sdb       263174212 188687976  61048080  76% /\n",
      "tmpfs            3176456         0   3176456   0% /mnt/wsl\n",
      "tools          246914044 132338036 114576008  54% /init\n",
      "none             3174056         0   3174056   0% /dev\n",
      "none             3176456         4   3176452   1% /run\n",
      "none             3176456         0   3176456   0% /run/lock\n",
      "none             3176456         4   3176452   1% /run/shm\n",
      "none             3176456         0   3176456   0% /run/user\n",
      "tmpfs            3176456         0   3176456   0% /sys/fs/cgroup\n",
      "C:\\            246914044 132338036 114576008  54% /mnt/c\n",
      "F:\\            488384508 382016196 106368312  79% /mnt/f\n"
     ]
    }
   ],
   "metadata": {}
  },
  {
   "cell_type": "code",
   "execution_count": 3,
   "source": [
    "in_nimble = False\n",
    "in_WSL = False\n",
    "in_tpu = False\n",
    "in_pi = False\n",
    "\n",
    "host = socket.gethostname()\n",
    "if('cuda' in host):\n",
    "    in_nimble = True\n",
    "    print(\"In NimbleBox\")\n",
    "if(host == 'LTsuphale-NC2JM'):\n",
    "    in_WSL = True\n",
    "    print(\"In WSL\")    \n",
    "if(host == 'raspberrypi'):\n",
    "    in_pi = True\n",
    "    print(\"In raspberry-pi\")    "
   ],
   "outputs": [
    {
     "output_type": "stream",
     "name": "stdout",
     "text": [
      "In WSL\n"
     ]
    }
   ],
   "metadata": {}
  },
  {
   "cell_type": "code",
   "execution_count": 4,
   "source": [
    "copy_required = False\n",
    "# total_test_images = 118287\n",
    "total_test_images   = 5000\n",
    "\n",
    "if(in_WSL == True):\n",
    "    coco_dir = '/home/suphale/snehal_bucket/coco/raw-data'\n",
    "    test_image_dir = '/home/suphale/WorkSpace/test_images'\n",
    "#     test_image_dir = train_2017_dir\n",
    "    test_image_captions_txt = test_image_dir + '/captions.txt'\n",
    "if(in_nimble == True):\n",
    "    coco_dir = '/mnt/disks/user/project/coco'\n",
    "    # test_image_dir = '/mnt/disks/user/project/WorkSpace/test_images'\n",
    "if(in_nimble == True):\n",
    "    coco_dir = '/mnt/disks/user/project/coco'\n",
    "    # test_image_dir = '/mnt/disks/user/project/WorkSpace/test_images'\n",
    "\n",
    "coco_dir = '/home/suphale/snehal_bucket/coco/raw-data'\n",
    "annotation_dir = coco_dir + '/annotations'\n",
    "train_2017_dir = coco_dir + '/train2017'\n",
    "test_image_dir = train_2017_dir\n",
    "captions_val2017_json = annotation_dir + '/captions_val2017.json'\n",
    "captions_train2017_json = annotation_dir + '/captions_train2017.json'\n",
    "instances_train2017_json = annotation_dir + '/instances_train2017.json'\n",
    "instances_val2017_json = annotation_dir + '/instances_val2017.json'\n",
    "\n",
    "test_image_captions_txt = './lists/captions_' + str(total_test_images) + '.txt'\n",
    "test_image_list_txt = './lists/images_' + str(total_test_images) + '.txt'\n",
    "test_instances_list_txt = './lists/instances_' + str(total_test_images) + '.txt'\n",
    "if(test_image_dir == train_2017_dir):\n",
    "    copy_required = False\n",
    "print(test_image_captions_txt)"
   ],
   "outputs": [
    {
     "output_type": "stream",
     "name": "stdout",
     "text": [
      "./lists/captions_5000.txt\n"
     ]
    }
   ],
   "metadata": {}
  },
  {
   "cell_type": "code",
   "execution_count": 5,
   "source": [
    "f = open(instances_val2017_json,)\n",
    "data_instances = json.load(f)"
   ],
   "outputs": [],
   "metadata": {}
  },
  {
   "cell_type": "code",
   "execution_count": 6,
   "source": [
    "f = open(captions_val2017_json,)\n",
    "data_captions = json.load(f)"
   ],
   "outputs": [],
   "metadata": {}
  },
  {
   "cell_type": "code",
   "execution_count": 7,
   "source": [
    "if(copy_required == True):\n",
    "    shutil.rmtree(test_image_dir,ignore_errors = True)\n",
    "    os.mkdir(test_image_dir)\n",
    "captions_file = open(test_image_captions_txt, \"w\")\n",
    "image_list_file = open(test_image_list_txt, \"w\")\n",
    "instances_list_file = open(test_instances_list_txt, \"w\")"
   ],
   "outputs": [],
   "metadata": {}
  },
  {
   "cell_type": "code",
   "execution_count": 8,
   "source": [
    "total_images = len(data_captions['images'])\n",
    "print(\"total_images = %d\" % (total_images))\n",
    "print(\"total_test_images = %d\" % (total_test_images))\n",
    "df_caption = pd.DataFrame(columns = ['FileName' , 'Caption']) \n",
    "df_annotation = pd.DataFrame(columns = ['FileName' , 'Caption']) \n",
    "\n",
    "if (total_images < total_test_images):\n",
    "    total_test_images = total_images\n",
    "print(\"total images = %d total test images = %d\" % (total_images,total_test_images))\n",
    "# random_list = random.choices(data_captions['images'],k=total_test_images)\n",
    "random_list = data_captions['images']\n",
    "for x in tqdm(random_list):\n",
    "    file_name= x['file_name']\n",
    "    image_id = x['id']\n",
    "    image_list_file.write(file_name+'\\n')\n",
    "    if(copy_required == True):\n",
    "        shutil.copyfile(train_2017_dir + '/' + file_name, test_image_dir + '/' + file_name)\n",
    "    for a in data_captions['annotations']:\n",
    "        if(a['image_id'] == image_id):\n",
    "            captions_file.write(file_name + ',' + a['caption']+'\\n')\n",
    "            series_obj = pd.Series( [file_name, a['caption']], index=df_caption.columns )\n",
    "            df_caption = df_caption.append( series_obj, ignore_index=True)\n",
    "    for a in data_instances['annotations']:\n",
    "        if(a['image_id'] == image_id):\n",
    "            instances_list_file.write(file_name + ',' + str(a['category_id'])+'\\n')\n",
    "            series_obj = pd.Series( [file_name, a['category_id']], index=df_annotation.columns )\n",
    "            df_annotation = df_annotation.append( series_obj, ignore_index=True)\n",
    "\n",
    "captions_file.close()\n",
    "image_list_file.close()\n",
    "instances_list_file.close()\n",
    "df_caption.to_csv('df_caption_5000.csv')\n",
    "df_annotation.to_csv('df_annotation_5000.csv')\n"
   ],
   "outputs": [
    {
     "output_type": "stream",
     "name": "stdout",
     "text": [
      "total_images = 5000\n",
      "total_test_images = 5000\n",
      "total images = 5000 total test images = 5000\n"
     ]
    },
    {
     "output_type": "stream",
     "name": "stderr",
     "text": [
      "  0%|          | 0/4 [00:00<?, ?it/s]\n"
     ]
    },
    {
     "output_type": "error",
     "ename": "TypeError",
     "evalue": "string indices must be integers",
     "traceback": [
      "\u001b[0;31m---------------------------------------------------------------------------\u001b[0m",
      "\u001b[0;31mTypeError\u001b[0m                                 Traceback (most recent call last)",
      "\u001b[0;32m<ipython-input-8-be07bd4bbda2>\u001b[0m in \u001b[0;36m<module>\u001b[0;34m\u001b[0m\n\u001b[1;32m     11\u001b[0m \u001b[0;34m\u001b[0m\u001b[0m\n\u001b[1;32m     12\u001b[0m \u001b[0;32mfor\u001b[0m \u001b[0mx\u001b[0m \u001b[0;32min\u001b[0m \u001b[0mtqdm\u001b[0m\u001b[0;34m(\u001b[0m\u001b[0mdata_captions\u001b[0m\u001b[0;34m)\u001b[0m\u001b[0;34m:\u001b[0m\u001b[0;34m\u001b[0m\u001b[0;34m\u001b[0m\u001b[0m\n\u001b[0;32m---> 13\u001b[0;31m     \u001b[0mfile_name\u001b[0m\u001b[0;34m=\u001b[0m \u001b[0mx\u001b[0m\u001b[0;34m[\u001b[0m\u001b[0;34m'file_name'\u001b[0m\u001b[0;34m]\u001b[0m\u001b[0;34m\u001b[0m\u001b[0;34m\u001b[0m\u001b[0m\n\u001b[0m\u001b[1;32m     14\u001b[0m     \u001b[0mimage_id\u001b[0m \u001b[0;34m=\u001b[0m \u001b[0mx\u001b[0m\u001b[0;34m[\u001b[0m\u001b[0;34m'id'\u001b[0m\u001b[0;34m]\u001b[0m\u001b[0;34m\u001b[0m\u001b[0;34m\u001b[0m\u001b[0m\n\u001b[1;32m     15\u001b[0m     \u001b[0mimage_list_file\u001b[0m\u001b[0;34m.\u001b[0m\u001b[0mwrite\u001b[0m\u001b[0;34m(\u001b[0m\u001b[0mfile_name\u001b[0m\u001b[0;34m+\u001b[0m\u001b[0;34m'\\n'\u001b[0m\u001b[0;34m)\u001b[0m\u001b[0;34m\u001b[0m\u001b[0;34m\u001b[0m\u001b[0m\n",
      "\u001b[0;31mTypeError\u001b[0m: string indices must be integers"
     ]
    }
   ],
   "metadata": {}
  },
  {
   "cell_type": "code",
   "execution_count": null,
   "source": [
    "# data['images'][0]"
   ],
   "outputs": [],
   "metadata": {}
  },
  {
   "cell_type": "code",
   "execution_count": null,
   "source": [
    "df_categories = pd.DataFrame(columns = ['id' , 'name'])\n",
    "for x in data_instances['categories']:\n",
    "    series_obj = pd.Series( [x['id'], x['name']], index=df_categories.columns )\n",
    "    df_categories = df_categories.append( series_obj, ignore_index=True)\n",
    "df_categories.to_csv('categories.csv')"
   ],
   "outputs": [],
   "metadata": {}
  },
  {
   "cell_type": "code",
   "execution_count": null,
   "source": [
    "df_caption"
   ],
   "outputs": [],
   "metadata": {}
  },
  {
   "cell_type": "code",
   "execution_count": null,
   "source": [],
   "outputs": [],
   "metadata": {}
  }
 ],
 "metadata": {
  "interpreter": {
   "hash": "816cef38ea687650e949fdc77c52b212eb7dd6fea03cacb31ef1316559bec641"
  },
  "kernelspec": {
   "display_name": "py373",
   "language": "python",
   "name": "py373"
  },
  "language_info": {
   "codemirror_mode": {
    "name": "ipython",
    "version": 3
   },
   "file_extension": ".py",
   "mimetype": "text/x-python",
   "name": "python",
   "nbconvert_exporter": "python",
   "pygments_lexer": "ipython3",
   "version": "3.7.3"
  }
 },
 "nbformat": 4,
 "nbformat_minor": 2
}