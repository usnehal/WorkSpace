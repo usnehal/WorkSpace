{
 "cells": [
  {
   "cell_type": "code",
   "execution_count": 1,
   "metadata": {},
   "outputs": [],
   "source": [
    "import json\n",
    "import random\n",
    "import os\n",
    "import shutil\n",
    "import socket\n",
    "from tqdm import tqdm\n",
    "import pandas as pd\n"
   ]
  },
  {
   "cell_type": "code",
   "execution_count": 2,
   "metadata": {},
   "outputs": [
    {
     "name": "stdout",
     "output_type": "stream",
     "text": [
      "In WSL\n"
     ]
    }
   ],
   "source": [
    "in_nimble = False\n",
    "in_WSL = False\n",
    "in_tpu = False\n",
    "in_pi = False\n",
    "\n",
    "host = socket.gethostname()\n",
    "if('cuda' in host):\n",
    "    in_nimble = True\n",
    "    print(\"In NimbleBox\")\n",
    "if(host == 'LTsuphale-NC2JM'):\n",
    "    in_WSL = True\n",
    "    print(\"In WSL\")    \n",
    "if(host == 'raspberrypi'):\n",
    "    in_pi = True\n",
    "    print(\"In raspberry-pi\")    "
   ]
  },
  {
   "cell_type": "code",
   "execution_count": 3,
   "metadata": {},
   "outputs": [
    {
     "name": "stdout",
     "output_type": "stream",
     "text": [
      "./lists/captions_128.txt\n"
     ]
    }
   ],
   "source": [
    "copy_required = True\n",
    "# total_test_images = 118287\n",
    "total_test_images   = 128\n",
    "\n",
    "if(in_WSL == True):\n",
    "    coco_dir = '/home/suphale/snehal_bucket/coco/raw-data'\n",
    "    test_image_dir = '/home/suphale/WorkSpace/test_images'\n",
    "#     test_image_dir = train_2017_dir\n",
    "    test_image_captions_txt = test_image_dir + '/captions.txt'\n",
    "if(in_nimble == True):\n",
    "    coco_dir = '/mnt/disks/user/project/coco'\n",
    "    # test_image_dir = '/mnt/disks/user/project/WorkSpace/test_images'\n",
    "if(in_nimble == True):\n",
    "    coco_dir = '/mnt/disks/user/project/coco'\n",
    "    # test_image_dir = '/mnt/disks/user/project/WorkSpace/test_images'\n",
    "\n",
    "annotation_dir = coco_dir + '/annotations'\n",
    "train_2017_dir = coco_dir + '/train2017'\n",
    "test_image_dir = train_2017_dir\n",
    "captions_val2017_json = annotation_dir + '/captions_val2017.json'\n",
    "captions_train2017_json = annotation_dir + '/captions_train2017.json'\n",
    "instances_train2017_json = annotation_dir + '/instances_train2017.json'\n",
    "\n",
    "test_image_captions_txt = './lists/captions_' + str(total_test_images) + '.txt'\n",
    "test_image_list_txt = './lists/images_' + str(total_test_images) + '.txt'\n",
    "test_instances_list_txt = './lists/instances_' + str(total_test_images) + '.txt'\n",
    "if(test_image_dir == train_2017_dir):\n",
    "    copy_required = False\n",
    "print(test_image_captions_txt)"
   ]
  },
  {
   "cell_type": "code",
   "execution_count": 4,
   "metadata": {},
   "outputs": [],
   "source": [
    "f = open(instances_train2017_json,)\n",
    "data_instances = json.load(f)"
   ]
  },
  {
   "cell_type": "code",
   "execution_count": 5,
   "metadata": {},
   "outputs": [],
   "source": [
    "f = open(captions_train2017_json,)\n",
    "data_captions = json.load(f)"
   ]
  },
  {
   "cell_type": "code",
   "execution_count": 6,
   "metadata": {},
   "outputs": [],
   "source": [
    "if(copy_required == True):\n",
    "    shutil.rmtree(test_image_dir,ignore_errors = True)\n",
    "    os.mkdir(test_image_dir)\n",
    "captions_file = open(test_image_captions_txt, \"w\")\n",
    "image_list_file = open(test_image_list_txt, \"w\")\n",
    "instances_list_file = open(test_instances_list_txt, \"w\")"
   ]
  },
  {
   "cell_type": "code",
   "execution_count": 7,
   "metadata": {},
   "outputs": [
    {
     "name": "stderr",
     "output_type": "stream",
     "text": [
      "  0%|          | 0/128 [00:00<?, ?it/s]"
     ]
    },
    {
     "name": "stdout",
     "output_type": "stream",
     "text": [
      "total_images = 118287\n",
      "total_test_images = 128\n",
      "total images = 118287 total test images = 128\n"
     ]
    },
    {
     "name": "stderr",
     "output_type": "stream",
     "text": [
      "100%|██████████| 128/128 [00:38<00:00,  3.33it/s]\n"
     ]
    }
   ],
   "source": [
    "total_images = len(data_captions['images'])\n",
    "print(\"total_images = %d\" % (total_images))\n",
    "print(\"total_test_images = %d\" % (total_test_images))\n",
    "df_caption = pd.DataFrame(columns = ['FileName' , 'Caption']) \n",
    "df_annotation = pd.DataFrame(columns = ['FileName' , 'Caption']) \n",
    "\n",
    "if (total_images < total_test_images):\n",
    "    total_test_images = total_images\n",
    "print(\"total images = %d total test images = %d\" % (total_images,total_test_images))\n",
    "random_list = random.choices(data_captions['images'],k=total_test_images)\n",
    "for x in tqdm(random_list):\n",
    "    file_name= x['file_name']\n",
    "    image_id = x['id']\n",
    "    image_list_file.write(file_name+'\\n')\n",
    "    if(copy_required == True):\n",
    "        shutil.copyfile(train_2017_dir + '/' + file_name, test_image_dir + '/' + file_name)\n",
    "    for a in data_captions['annotations']:\n",
    "        if(a['image_id'] == image_id):\n",
    "            captions_file.write(file_name + ',' + a['caption']+'\\n')\n",
    "            series_obj = pd.Series( [file_name, a['caption']], index=df_caption.columns )\n",
    "            df_caption = df_caption.append( series_obj, ignore_index=True)\n",
    "    for a in data_instances['annotations']:\n",
    "        if(a['image_id'] == image_id):\n",
    "            instances_list_file.write(file_name + ',' + str(a['category_id'])+'\\n')\n",
    "            series_obj = pd.Series( [file_name, a['category_id']], index=df_annotation.columns )\n",
    "            df_annotation = df_annotation.append( series_obj, ignore_index=True)\n",
    "\n",
    "captions_file.close()\n",
    "image_list_file.close()\n",
    "instances_list_file.close()\n",
    "df_caption.to_csv('df_caption.csv')\n",
    "df_annotation.to_csv('df_annotation.csv')\n"
   ]
  },
  {
   "cell_type": "code",
   "execution_count": 8,
   "metadata": {},
   "outputs": [],
   "source": [
    "# data['images'][0]"
   ]
  },
  {
   "cell_type": "code",
   "execution_count": 10,
   "metadata": {},
   "outputs": [],
   "source": [
    "df_categories = pd.DataFrame(columns = ['id' , 'name'])\n",
    "for x in data_instances['categories']:\n",
    "    series_obj = pd.Series( [x['id'], x['name']], index=df_categories.columns )\n",
    "    df_categories = df_categories.append( series_obj, ignore_index=True)\n",
    "df_categories.to_csv('categories.csv')"
   ]
  },
  {
   "cell_type": "code",
   "execution_count": null,
   "metadata": {},
   "outputs": [],
   "source": []
  }
 ],
 "metadata": {
  "interpreter": {
   "hash": "816cef38ea687650e949fdc77c52b212eb7dd6fea03cacb31ef1316559bec641"
  },
  "kernelspec": {
   "display_name": "py37",
   "language": "python",
   "name": "py37"
  },
  "language_info": {
   "name": "python",
   "version": ""
  }
 },
 "nbformat": 4,
 "nbformat_minor": 2
}