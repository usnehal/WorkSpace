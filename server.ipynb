{
 "cells": [
  {
   "cell_type": "code",
   "execution_count": null,
   "source": [
    "#!/usr/bin/env python3"
   ],
   "outputs": [],
   "metadata": {}
  },
  {
   "cell_type": "code",
   "execution_count": null,
   "source": [
    "import os\n",
    "import numpy as np\n",
    "import tensorflow as tf\n",
    "from   tensorflow.keras import layers,Model\n",
    "import pickle5 as pickle\n",
    "from   tensorflow.keras.preprocessing.text import Tokenizer\n",
    "from   tensorflow.keras.activations import tanh\n",
    "from   tensorflow.keras.activations import softmax\n",
    "from   numpy import float32\n",
    "from   numpy import byte\n",
    "import json\n",
    "import time\n",
    "import zlib\n",
    "import pickle5 as pickle\n",
    "\n",
    "from Helper import Config, ImagesInfo, Logger, Client, TimeKeeper, Server\n",
    "from Helper import read_image, filt_text, get_predictions\n"
   ],
   "outputs": [],
   "metadata": {}
  },
  {
   "cell_type": "code",
   "execution_count": null,
   "source": [
    "class TailModel:\n",
    "    def __init__(self,cfg):\n",
    "        self.cfg = cfg\n",
    "        self.model = None\n",
    "\n",
    "    def evaluate(self,image):\n",
    "        result = self.model(image)\n",
    "        return result\n",
    "\n",
    "    def load_model(self,msg,shape):\n",
    "        Logger.milestone_print(\"Loading model : %s\" % (cfg.saved_model_path + msg))\n",
    "        self.model = None\n",
    "        self.model = tf.keras.models.load_model(cfg.saved_model_path + msg)\n",
    "        return \"OK\"\n",
    "\n",
    "    def process_image_file(self,msg,shape):\n",
    "        temp_file = '/tmp/temp.bin'\n",
    "        f = open(temp_file, \"wb\")\n",
    "        f.write(msg)\n",
    "        f.close()\n",
    "\n",
    "        t0 = time.perf_counter()\n",
    "        image_tensor = tf.expand_dims(read_image(temp_file), 0) \n",
    "        result = self.evaluate(image_tensor)\n",
    "        t1 = time.perf_counter() - t0\n",
    "\n",
    "        top_predictions, predictions_prob = get_predictions(cfg, result)\n",
    "\n",
    "        send_json_dict = {}\n",
    "        send_json_dict['response'] = 'OK'\n",
    "        send_json_dict['predictions'] = top_predictions\n",
    "        send_json_dict['predictions_prob'] = predictions_prob\n",
    "        send_json_dict['tail_model_time'] = t1\n",
    "\n",
    "        app_json = json.dumps(send_json_dict)\n",
    "\n",
    "        return str(app_json)\n",
    "\n",
    "    def process_image_tensor(self,msg,shape):\n",
    "        generated_np_array = np.frombuffer(msg, dtype=float32)\n",
    "        generated_np_array = np.frombuffer(generated_np_array, dtype=float32)\n",
    "        generated_image_np_array = generated_np_array.reshape(shape)\n",
    "        image_tensor = tf.convert_to_tensor(generated_image_np_array, dtype=tf.float32)\n",
    "\n",
    "        t0 = time.perf_counter()\n",
    "        result  = self.evaluate(image_tensor)\n",
    "        t1 = time.perf_counter() - t0\n",
    "\n",
    "        top_predictions, predictions_prob = get_predictions(cfg, result)\n",
    "\n",
    "        send_json_dict = {}\n",
    "        send_json_dict['response'] = 'OK'\n",
    "        send_json_dict['predictions'] = top_predictions\n",
    "        send_json_dict['predictions_prob'] = predictions_prob\n",
    "        send_json_dict['tail_model_time'] = t1\n",
    "\n",
    "        app_json = json.dumps(send_json_dict)\n",
    "\n",
    "        return str(app_json)\n",
    "        \n",
    "    def extract_image_features(self, sample_img_batch):\n",
    "        features = self.image_features_extract_model(sample_img_batch)\n",
    "        features = tf.reshape(features, [sample_img_batch.shape[0],8*8, 2048])\n",
    "        return features\n"
   ],
   "outputs": [],
   "metadata": {}
  },
  {
   "cell_type": "code",
   "execution_count": null,
   "source": [
    "Logger.set_log_level(1)\n",
    "tk = TimeKeeper()\n",
    "cfg = Config(None)\n",
    "client = Client(cfg)\n",
    "imagesInfo = ImagesInfo(cfg)\n"
   ],
   "outputs": [],
   "metadata": {}
  },
  {
   "cell_type": "code",
   "execution_count": null,
   "source": [
    "cfg = Config(None)\n",
    "tailModel = TailModel(cfg)\n",
    "server = Server(cfg, tailModel)\n",
    "server.register_callback('data',tailModel.process_image_tensor)\n",
    "server.register_callback('file',tailModel.process_image_file)\n",
    "server.register_callback('load_model_request',tailModel.load_model)\n",
    "server.accept_connections()"
   ],
   "outputs": [],
   "metadata": {}
  },
  {
   "cell_type": "code",
   "execution_count": null,
   "source": [],
   "outputs": [],
   "metadata": {}
  }
 ],
 "metadata": {
  "interpreter": {
   "hash": "53d8a323e6010706682c07af791323eacfc072764aa514c33420848fded080be"
  },
  "kernelspec": {
   "display_name": "Python 3.7.3 64-bit ('py373': conda)",
   "name": "python3"
  },
  "language_info": {
   "codemirror_mode": {
    "name": "ipython",
    "version": 3
   },
   "file_extension": ".py",
   "mimetype": "text/x-python",
   "name": "python",
   "nbconvert_exporter": "python",
   "pygments_lexer": "ipython3",
   "version": "3.7.3"
  },
  "orig_nbformat": 4
 },
 "nbformat": 4,
 "nbformat_minor": 2
}