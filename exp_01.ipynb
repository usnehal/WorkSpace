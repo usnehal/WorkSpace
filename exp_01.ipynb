{
 "cells": [
  {
   "cell_type": "code",
   "execution_count": 1,
   "metadata": {},
   "outputs": [],
   "source": [
    "import json\n",
    "import random\n",
    "import os\n",
    "import shutil\n",
    "import socket\n",
    "import pprint\n",
    "from tqdm import tqdm"
   ]
  },
  {
   "cell_type": "code",
   "execution_count": 2,
   "metadata": {},
   "outputs": [
    {
     "name": "stdout",
     "output_type": "stream",
     "text": [
      "In WSL\n"
     ]
    }
   ],
   "source": [
    "in_nimble = False\n",
    "in_WSL = False\n",
    "in_tpu = False\n",
    "in_pi = False\n",
    "\n",
    "host = socket.gethostname()\n",
    "if('cuda' in host):\n",
    "    in_nimble = True\n",
    "    print(\"In NimbleBox\")\n",
    "if(host == 'LTsuphale-NC2JM'):\n",
    "    in_WSL = True\n",
    "    print(\"In WSL\")    \n",
    "if(host == 'raspberrypi'):\n",
    "    in_pi = True\n",
    "    print(\"In raspberry-pi\")    "
   ]
  },
  {
   "cell_type": "code",
   "execution_count": 3,
   "metadata": {},
   "outputs": [
    {
     "name": "stdout",
     "output_type": "stream",
     "text": [
      "./lists/captions_128.txt\n"
     ]
    }
   ],
   "source": [
    "copy_required = True\n",
    "# total_test_images = 118287\n",
    "total_test_images   = 128\n",
    "\n",
    "if(in_WSL == True):\n",
    "    coco_dir = '/home/suphale/snehal_bucket/coco/raw-data'\n",
    "    annotation_dir = coco_dir + '/annotations'\n",
    "    train_2017_dir = coco_dir + '/train2017'\n",
    "    captions_val2017_json = annotation_dir + '/captions_val2017.json'\n",
    "    captions_train2017_json = annotation_dir + '/captions_train2017.json'\n",
    "    test_image_dir = '/home/suphale/WorkSpace/test_images'\n",
    "#     test_image_dir = train_2017_dir\n",
    "    test_image_captions_txt = test_image_dir + '/captions.txt'\n",
    "    copy_required = True\n",
    "if(in_nimble == True):\n",
    "    coco_dir = '/mnt/disks/user/project/coco'\n",
    "    annotation_dir = coco_dir + '/annotations'\n",
    "    train_2017_dir = coco_dir + '/train2017'\n",
    "    captions_val2017_json = annotation_dir + '/captions_val2017.json'\n",
    "    captions_train2017_json = annotation_dir + '/captions_train2017.json'\n",
    "    # test_image_dir = '/mnt/disks/user/project/WorkSpace/test_images'\n",
    "    test_image_dir = train_2017_dir\n",
    "    copy_required = False\n",
    "if(in_nimble == True):\n",
    "    coco_dir = '/mnt/disks/user/project/coco'\n",
    "    annotation_dir = coco_dir + '/annotations'\n",
    "    train_2017_dir = coco_dir + '/train2017'\n",
    "    captions_val2017_json = annotation_dir + '/captions_val2017.json'\n",
    "    captions_train2017_json = annotation_dir + '/captions_train2017.json'\n",
    "    # test_image_dir = '/mnt/disks/user/project/WorkSpace/test_images'\n",
    "    test_image_dir = train_2017_dir\n",
    "    copy_required = True\n",
    "\n",
    "test_image_captions_txt = './lists/captions_' + str(total_test_images) + '.txt'\n",
    "test_image_list_txt = './lists/images_' + str(total_test_images) + '.txt'\n",
    "if(test_image_dir == train_2017_dir):\n",
    "    copy_required = False\n",
    "print(test_image_captions_txt)"
   ]
  },
  {
   "cell_type": "code",
   "execution_count": 4,
   "metadata": {},
   "outputs": [],
   "source": [
    "captions_train2017_json = annotation_dir + '/captions_train2017.json'\n",
    "f = open(captions_train2017_json,)\n",
    "captions_train2017_data = json.load(f)\n",
    "f.close()"
   ]
  },
  {
   "cell_type": "code",
   "execution_count": 5,
   "metadata": {},
   "outputs": [],
   "source": [
    "instances_val2017_json = annotation_dir + '/instances_train2017.json'\n",
    "f = open(instances_val2017_json,)\n",
    "instances_val2017_data = json.load(f)\n",
    "f.close()\n"
   ]
  },
  {
   "cell_type": "code",
   "execution_count": 7,
   "metadata": {},
   "outputs": [
    {
     "name": "stdout",
     "output_type": "stream",
     "text": [
      "key=info type=<class 'dict'>\n",
      "    key=description <class 'str'>\n",
      "    key=url <class 'str'>\n",
      "    key=version <class 'str'>\n",
      "    key=year <class 'int'>\n",
      "    key=contributor <class 'str'>\n",
      "    key=date_created <class 'str'>\n",
      "key=licenses type=<class 'list'>\n",
      "    {'url': 'http://creativecommons.org/licenses/by-nc-sa/2.0/', 'id': 1, 'name': 'Attribution-NonCommercial-ShareAlike License'}\n",
      "key=images type=<class 'list'>\n",
      "    {'license': 3, 'file_name': '000000391895.jpg', 'coco_url': 'http://images.cocodataset.org/train2017/000000391895.jpg', 'height': 360, 'width': 640, 'date_captured': '2013-11-14 11:18:45', 'flickr_url': 'http://farm9.staticflickr.com/8186/8119368305_4e622c8349_z.jpg', 'id': 391895}\n",
      "key=annotations type=<class 'list'>\n",
      "    {'image_id': 203564, 'id': 37, 'caption': 'A bicycle replica with a clock as the front wheel.'}\n"
     ]
    }
   ],
   "source": [
    "for key in captions_train2017_data.keys():\n",
    "    print(\"key=%s type=%s\" % (key,str(type(captions_train2017_data[key]))))\n",
    "    if( type(captions_train2017_data[key]) == dict):\n",
    "        for subkey in captions_train2017_data[key].keys():\n",
    "            print(\"    key=%s %s\" % (subkey,str(type(captions_train2017_data[key][subkey]))))\n",
    "    if( type(captions_train2017_data[key]) == list):\n",
    "        print(\"    %s\" % (str(captions_train2017_data[key][0])))\n"
   ]
  },
  {
   "cell_type": "code",
   "execution_count": 8,
   "metadata": {},
   "outputs": [
    {
     "name": "stdout",
     "output_type": "stream",
     "text": [
      "key=info type=<class 'dict'>\n",
      "    key=description <class 'str'>\n",
      "    key=url <class 'str'>\n",
      "    key=version <class 'str'>\n",
      "    key=year <class 'int'>\n",
      "    key=contributor <class 'str'>\n",
      "    key=date_created <class 'str'>\n",
      "key=licenses type=<class 'list'>\n",
      "    {'url': 'http://creativecommons.org/licenses/by-nc-sa/2.0/', 'id': 1, 'name': 'Attribution-NonCommercial-ShareAlike License'}\n",
      "key=images type=<class 'list'>\n",
      "    {'license': 3, 'file_name': '000000391895.jpg', 'coco_url': 'http://images.cocodataset.org/train2017/000000391895.jpg', 'height': 360, 'width': 640, 'date_captured': '2013-11-14 11:18:45', 'flickr_url': 'http://farm9.staticflickr.com/8186/8119368305_4e622c8349_z.jpg', 'id': 391895}\n",
      "key=annotations type=<class 'list'>\n",
      "    {'segmentation': [[239.97, 260.24, 222.04, 270.49, 199.84, 253.41, 213.5, 227.79, 259.62, 200.46, 274.13, 202.17, 277.55, 210.71, 249.37, 253.41, 237.41, 264.51, 242.54, 261.95, 228.87, 271.34]], 'area': 2765.1486500000005, 'iscrowd': 0, 'image_id': 558840, 'bbox': [199.84, 200.46, 77.71, 70.88], 'category_id': 58, 'id': 156}\n",
      "key=categories type=<class 'list'>\n",
      "    {'supercategory': 'person', 'id': 1, 'name': 'person'}\n"
     ]
    }
   ],
   "source": [
    "for key in instances_val2017_data.keys():\n",
    "    print(\"key=%s type=%s\" % (key,str(type(instances_val2017_data[key]))))\n",
    "    if( type(instances_val2017_data[key]) == dict):\n",
    "        for subkey in instances_val2017_data[key].keys():\n",
    "            print(\"    key=%s %s\" % (subkey,str(type(instances_val2017_data[key][subkey]))))\n",
    "    if( type(instances_val2017_data[key]) == list):\n",
    "        print(\"    %s\" % (str(instances_val2017_data[key][0])))\n"
   ]
  },
  {
   "cell_type": "code",
   "execution_count": 14,
   "metadata": {},
   "outputs": [
    {
     "name": "stdout",
     "output_type": "stream",
     "text": [
      "{   'annotations': {   'area': 1157.0981500000003,\n",
      "                       'bbox': [240.43, 255.25, 38.58, 50.33],\n",
      "                       'category_id': 40,\n",
      "                       'id': 1470861,\n",
      "                       'image_id': 262508,\n",
      "                       'iscrowd': 0,\n",
      "                       'segmentation': [   [   240.43,\n",
      "                                               255.25,\n",
      "                                               248.51,\n",
      "                                               259.65,\n",
      "                                               255.49,\n",
      "                                               258.18,\n",
      "                                               279.01,\n",
      "                                               290.89,\n",
      "                                               274.6,\n",
      "                                               300.81,\n",
      "                                               267.98,\n",
      "                                               305.22,\n",
      "                                               261.37,\n",
      "                                               305.58,\n",
      "                                               255.12,\n",
      "                                               303.01,\n",
      "                                               241.9,\n",
      "                                               283.17]]},\n",
      "    'captions': [   'Two boys stand in the outfield during a baseball game.',\n",
      "                    'Young, uniformed baseball players in the out field',\n",
      "                    'two little league players talking to each other in the '\n",
      "                    'outfield ',\n",
      "                    'A young man with a mitt standing on a field.',\n",
      "                    'THERE ARE TWO BOYS PLAYING BASE BALL ON THE GREEN'],\n",
      "    'images': {   'coco_url': 'http://images.cocodataset.org/train2017/000000262508.jpg',\n",
      "                  'date_captured': '2013-11-19 21:32:20',\n",
      "                  'file_name': '000000262508.jpg',\n",
      "                  'flickr_url': 'http://farm1.staticflickr.com/217/511666502_528b79fefd_z.jpg',\n",
      "                  'height': 480,\n",
      "                  'id': 262508,\n",
      "                  'license': 3,\n",
      "                  'width': 640}}\n"
     ]
    }
   ],
   "source": [
    "id=262508\n",
    "my_dict = {}\n",
    "my_dict[\"captions\"] = []\n",
    "pp = pprint.PrettyPrinter(indent=4)\n",
    "for x in instances_val2017_data[\"images\"]:\n",
    "    if(x[\"id\"] == id):\n",
    "        # pp.pprint(x)\n",
    "        my_dict[\"images\"] = x\n",
    "\n",
    "for x in instances_val2017_data[\"annotations\"]:\n",
    "    if(x[\"image_id\"] == id):\n",
    "        # pp.pprint(x)\n",
    "        my_dict[\"annotations\"] = x\n",
    "\n",
    "for x in captions_train2017_data[\"annotations\"]:\n",
    "    if(x[\"image_id\"] == id):\n",
    "        # pp.pprint(x)\n",
    "        my_dict[\"captions\"].append(x['caption'])\n",
    "\n",
    "pp.pprint(my_dict)"
   ]
  },
  {
   "cell_type": "code",
   "execution_count": 20,
   "metadata": {},
   "outputs": [
    {
     "name": "stdout",
     "output_type": "stream",
     "text": [
      "key=description <class 'str'>\n",
      "key=url <class 'str'>\n",
      "key=version <class 'str'>\n",
      "key=year <class 'int'>\n",
      "key=contributor <class 'str'>\n",
      "key=date_created <class 'str'>\n"
     ]
    }
   ],
   "source": [
    "for x in data[\"info\"].keys():\n",
    "    print(\"key=%s %s\" % (x,str(type(data[\"info\"][x]))))\n",
    "    # print(data[x][0])"
   ]
  },
  {
   "cell_type": "code",
   "execution_count": 4,
   "metadata": {},
   "outputs": [],
   "source": [
    "f = open(captions_train2017_json,)\n",
    "data = json.load(f)"
   ]
  },
  {
   "cell_type": "code",
   "execution_count": 5,
   "metadata": {},
   "outputs": [],
   "source": [
    "if(copy_required == True):\n",
    "    shutil.rmtree(test_image_dir,ignore_errors = True)\n",
    "    os.mkdir(test_image_dir)\n",
    "captions_file = open(test_image_captions_txt, \"w\")\n",
    "image_list_file = open(test_image_list_txt, \"w\")"
   ]
  },
  {
   "cell_type": "code",
   "execution_count": 6,
   "metadata": {},
   "outputs": [
    {
     "name": "stderr",
     "output_type": "stream",
     "text": [
      "  1%|          | 1/128 [00:00<00:15,  7.95it/s]"
     ]
    },
    {
     "name": "stdout",
     "output_type": "stream",
     "text": [
      "total_images = 118287\n",
      "total_test_images = 128\n",
      "total images = 118287 total test images = 128\n"
     ]
    },
    {
     "name": "stderr",
     "output_type": "stream",
     "text": [
      "100%|██████████| 128/128 [00:10<00:00, 11.73it/s]\n"
     ]
    }
   ],
   "source": [
    "total_images = len(data['images'])\n",
    "print(\"total_images = %d\" % (total_images))\n",
    "print(\"total_test_images = %d\" % (total_test_images))\n",
    "\n",
    "if (total_images < total_test_images):\n",
    "    total_test_images = total_images\n",
    "print(\"total images = %d total test images = %d\" % (total_images,total_test_images))\n",
    "random_list = random.choices(data['images'],k=total_test_images)\n",
    "for x in tqdm(random_list):\n",
    "    file_name= x['file_name']\n",
    "    coco_url= x['coco_url']\n",
    "    image_id = x['id']\n",
    "    # print(file_name)\n",
    "    # print(coco_url)\n",
    "    image_list_file.write(file_name+'\\n')\n",
    "    for a in data['annotations']:\n",
    "        if(a['image_id'] == image_id):\n",
    "            #print(file_name + ',' + a['caption'])\n",
    "            # print(train_2017_dir + '/' + file_name)\n",
    "            if(copy_required == True):\n",
    "                shutil.copyfile(train_2017_dir + '/' + file_name, test_image_dir + '/' + file_name)\n",
    "            captions_file.write(file_name + ',' + a['caption']+'\\n')\n",
    "\n",
    "captions_file.close()\n",
    "image_list_file.close()\n"
   ]
  },
  {
   "cell_type": "code",
   "execution_count": 7,
   "metadata": {},
   "outputs": [],
   "source": [
    "# data['images'][0]"
   ]
  },
  {
   "cell_type": "code",
   "execution_count": null,
   "metadata": {},
   "outputs": [],
   "source": []
  }
 ],
 "metadata": {
  "interpreter": {
   "hash": "816cef38ea687650e949fdc77c52b212eb7dd6fea03cacb31ef1316559bec641"
  },
  "kernelspec": {
   "display_name": "Python 3.7.10 64-bit ('py37': conda)",
   "name": "python3"
  },
  "language_info": {
   "codemirror_mode": {
    "name": "ipython",
    "version": 3
   },
   "file_extension": ".py",
   "mimetype": "text/x-python",
   "name": "python",
   "nbconvert_exporter": "python",
   "pygments_lexer": "ipython3",
   "version": "3.7.10"
  }
 },
 "nbformat": 4,
 "nbformat_minor": 2
}