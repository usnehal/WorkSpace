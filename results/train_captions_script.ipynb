{
 "cells": [
  {
   "cell_type": "code",
   "execution_count": 1,
   "source": [
    "import pandas as pd"
   ],
   "outputs": [],
   "metadata": {}
  },
  {
   "cell_type": "code",
   "execution_count": 2,
   "source": [
    "nw_speed_list = [3,5,7,10]\n",
    "folder = './'\n",
    "\n",
    "csv_name = './exp_01/results.csv'\n",
    "fdf = pd.read_csv(csv_name)\n",
    "nw_column = [0] * fdf.shape[0]\n",
    "fdf['nw_speed'] = nw_column\n",
    "\n",
    "for nw in nw_speed_list:\n",
    "    csv_name = './%d_mbps/results.csv' % nw\n",
    "    df_t = pd.read_csv(csv_name)\n",
    "    nw_column = [nw] * df_t.shape[0]\n",
    "    df_t['nw_speed'] = nw_column\n",
    "    fdf = fdf.append(df_t)\n",
    "fdf.describe()\n",
    "fdf.to_csv('./fdf.csv')"
   ],
   "outputs": [],
   "metadata": {}
  },
  {
   "cell_type": "code",
   "execution_count": 6,
   "source": [
    "fdf['test_name'] = ''\n",
    "fdf.loc[fdf.test_number == 1, 'test_name'] = 'ondevice'\n",
    "fdf.loc[fdf.test_number == 2, 'test_name'] = 'rgb buffer'\n",
    "fdf.loc[fdf.test_number == 3, 'test_name'] = 'rgb buffer\\nzlib compressed'\n",
    "fdf.loc[fdf.test_number == 4, 'test_name'] = 'jpeg\\ncompressed'\n",
    "fdf.loc[fdf.test_number == 5, 'test_name'] = 'split layer'\n",
    "fdf.loc[fdf.test_number == 6, 'test_name'] = 'split layer\\nzlib compressed'\n",
    "fdf.loc[fdf.test_number == 7, 'test_name'] = 'split layer\\nqualtized'\n",
    "fdf.loc[fdf.test_number == 8, 'test_name'] = 'split layer\\nquantized\\nzlib compressed'\n",
    "\n"
   ],
   "outputs": [
    {
     "output_type": "stream",
     "name": "stderr",
     "text": [
      "/home/suphale/anaconda3/envs/py373/lib/python3.7/site-packages/ipykernel_launcher.py:4: SettingWithCopyWarning: \n",
      "A value is trying to be set on a copy of a slice from a DataFrame.\n",
      "Try using .loc[row_indexer,col_indexer] = value instead\n",
      "\n",
      "See the caveats in the documentation: https://pandas.pydata.org/pandas-docs/stable/user_guide/indexing.html#returning-a-view-versus-a-copy\n",
      "  after removing the cwd from sys.path.\n",
      "/home/suphale/anaconda3/envs/py373/lib/python3.7/site-packages/ipykernel_launcher.py:5: SettingWithCopyWarning: \n",
      "A value is trying to be set on a copy of a slice from a DataFrame.\n",
      "Try using .loc[row_indexer,col_indexer] = value instead\n",
      "\n",
      "See the caveats in the documentation: https://pandas.pydata.org/pandas-docs/stable/user_guide/indexing.html#returning-a-view-versus-a-copy\n",
      "  \"\"\"\n",
      "/home/suphale/anaconda3/envs/py373/lib/python3.7/site-packages/ipykernel_launcher.py:6: SettingWithCopyWarning: \n",
      "A value is trying to be set on a copy of a slice from a DataFrame.\n",
      "Try using .loc[row_indexer,col_indexer] = value instead\n",
      "\n",
      "See the caveats in the documentation: https://pandas.pydata.org/pandas-docs/stable/user_guide/indexing.html#returning-a-view-versus-a-copy\n",
      "  \n",
      "/home/suphale/anaconda3/envs/py373/lib/python3.7/site-packages/ipykernel_launcher.py:7: SettingWithCopyWarning: \n",
      "A value is trying to be set on a copy of a slice from a DataFrame.\n",
      "Try using .loc[row_indexer,col_indexer] = value instead\n",
      "\n",
      "See the caveats in the documentation: https://pandas.pydata.org/pandas-docs/stable/user_guide/indexing.html#returning-a-view-versus-a-copy\n",
      "  import sys\n",
      "/home/suphale/anaconda3/envs/py373/lib/python3.7/site-packages/ipykernel_launcher.py:8: SettingWithCopyWarning: \n",
      "A value is trying to be set on a copy of a slice from a DataFrame.\n",
      "Try using .loc[row_indexer,col_indexer] = value instead\n",
      "\n",
      "See the caveats in the documentation: https://pandas.pydata.org/pandas-docs/stable/user_guide/indexing.html#returning-a-view-versus-a-copy\n",
      "  \n",
      "/home/suphale/anaconda3/envs/py373/lib/python3.7/site-packages/ipykernel_launcher.py:9: SettingWithCopyWarning: \n",
      "A value is trying to be set on a copy of a slice from a DataFrame.\n",
      "Try using .loc[row_indexer,col_indexer] = value instead\n",
      "\n",
      "See the caveats in the documentation: https://pandas.pydata.org/pandas-docs/stable/user_guide/indexing.html#returning-a-view-versus-a-copy\n",
      "  if __name__ == '__main__':\n",
      "/home/suphale/anaconda3/envs/py373/lib/python3.7/site-packages/ipykernel_launcher.py:10: SettingWithCopyWarning: \n",
      "A value is trying to be set on a copy of a slice from a DataFrame.\n",
      "Try using .loc[row_indexer,col_indexer] = value instead\n",
      "\n",
      "See the caveats in the documentation: https://pandas.pydata.org/pandas-docs/stable/user_guide/indexing.html#returning-a-view-versus-a-copy\n",
      "  # Remove the CWD from sys.path while we load stuff.\n",
      "/home/suphale/anaconda3/envs/py373/lib/python3.7/site-packages/ipykernel_launcher.py:11: SettingWithCopyWarning: \n",
      "A value is trying to be set on a copy of a slice from a DataFrame.\n",
      "Try using .loc[row_indexer,col_indexer] = value instead\n",
      "\n",
      "See the caveats in the documentation: https://pandas.pydata.org/pandas-docs/stable/user_guide/indexing.html#returning-a-view-versus-a-copy\n",
      "  # This is added back by InteractiveShellApp.init_path()\n"
     ]
    }
   ],
   "metadata": {}
  },
  {
   "cell_type": "code",
   "execution_count": 4,
   "source": [
    "df_exp_01 = fdf[full_df.test_number == 1]"
   ],
   "outputs": [
    {
     "output_type": "error",
     "ename": "NameError",
     "evalue": "name 'full_df' is not defined",
     "traceback": [
      "\u001b[0;31m---------------------------------------------------------------------------\u001b[0m",
      "\u001b[0;31mNameError\u001b[0m                                 Traceback (most recent call last)",
      "\u001b[0;32m<ipython-input-4-eee6dd956c5c>\u001b[0m in \u001b[0;36m<module>\u001b[0;34m\u001b[0m\n\u001b[0;32m----> 1\u001b[0;31m \u001b[0mdf_exp_01\u001b[0m \u001b[0;34m=\u001b[0m \u001b[0mfull_df\u001b[0m\u001b[0;34m[\u001b[0m\u001b[0mfull_df\u001b[0m\u001b[0;34m.\u001b[0m\u001b[0mtest_number\u001b[0m \u001b[0;34m==\u001b[0m \u001b[0;36m1\u001b[0m\u001b[0;34m]\u001b[0m\u001b[0;34m\u001b[0m\u001b[0;34m\u001b[0m\u001b[0m\n\u001b[0m",
      "\u001b[0;31mNameError\u001b[0m: name 'full_df' is not defined"
     ]
    }
   ],
   "metadata": {}
  },
  {
   "cell_type": "code",
   "execution_count": null,
   "source": [
    "df_plot = df_exp_01[['image_size','accuracy','top_1_accuracy','top_5_accuracy','precision','recall','BLEU','total_time']]\n",
    "plot = df_plot.plot(x='image_size', y=['precision','recall'], figsize=(8,6),xlabel= 'image size in pixels', title='Experiment one (precision-recall)')\n",
    "fig = plot.get_figure()\n",
    "fig.savefig(folder + \"exp_01_precision_recall.png\")"
   ],
   "outputs": [],
   "metadata": {}
  },
  {
   "cell_type": "code",
   "execution_count": null,
   "source": [
    "plot = df_plot.plot(x='image_size', \n",
    "                    y=['accuracy','top_1_accuracy','top_5_accuracy'], \n",
    "                    figsize=(8,6),\n",
    "                    xlabel= 'image size in pixels', \n",
    "                    ylabel='accuracy',\n",
    "                    title='Experiment one (accuracy)')\n",
    "fig = plot.get_figure()\n",
    "fig.savefig(folder + \"exp_01_accuracy_top_1_accuracy_top_5_accuracy.png\")"
   ],
   "outputs": [],
   "metadata": {}
  },
  {
   "cell_type": "code",
   "execution_count": null,
   "source": [
    "plot = df_plot.plot(x='image_size', \n",
    "                    y=['BLEU'], \n",
    "                    figsize=(8,6),\n",
    "                    xlabel= 'image size in pixels', \n",
    "                    ylabel='BLEU score',\n",
    "                    title='Experiment two (BLEU)')\n",
    "fig = plot.get_figure()\n",
    "fig.savefig(folder + \"exp_01_BLEU.png\")"
   ],
   "outputs": [],
   "metadata": {}
  },
  {
   "cell_type": "code",
   "execution_count": null,
   "source": [
    "plot = df_plot.plot(x='image_size', \n",
    "                    y=['total_time'], \n",
    "                    figsize=(8,6),\n",
    "                    legend=True, \n",
    "                    xlabel= 'image size in pixels', \n",
    "                    ylabel='total time in seconds',\n",
    "                    title='Experiment one (total time)')\n",
    "fig = plot.get_figure()\n",
    "fig.savefig(folder + \"exp_01_total_time.png\")"
   ],
   "outputs": [],
   "metadata": {}
  },
  {
   "cell_type": "code",
   "execution_count": null,
   "source": [
    "df_exp_02_03_04 = full_df[((full_df.test_number == 2) | (full_df.test_number == 3) | (full_df.test_number == 4))]\n",
    "df_exp_02_03_04['test'] = ['jpeg \\ncompressed','RGB \\nframebuffer','RGB \\nframebuffer\\nzlib']\n",
    "df_exp_02_03_04 = df_exp_02_03_04[['total_time','head_time','network_time','tail_time','nw_payload','test']]\n",
    "# df_exp_02_03_04"
   ],
   "outputs": [],
   "metadata": {}
  },
  {
   "cell_type": "code",
   "execution_count": null,
   "source": [
    "df_plot = df_exp_02_03_04[['total_time','head_time','network_time','tail_time','test']]\n",
    "plot = df_plot.plot(kind='bar',x='test', xlabel='test scenario')\n",
    "fig = plot.get_figure()\n",
    "fig.savefig(folder + \"exp_02_03_04_time.png\")"
   ],
   "outputs": [],
   "metadata": {}
  },
  {
   "cell_type": "code",
   "execution_count": null,
   "source": [
    "df_plot = df_exp_02_03_04[['nw_payload','test']]\n",
    "df_plot = df_plot.rename(columns={\"nw_payload\": \"Network payload\"})\n",
    "plot = df_plot.plot(kind='bar',x='test',xlabel='test case')\n",
    "fig = plot.get_figure()\n",
    "fig.savefig(folder + \"exp_02_03_04_time.png\")"
   ],
   "outputs": [],
   "metadata": {}
  },
  {
   "cell_type": "code",
   "execution_count": null,
   "source": [
    "df_exp_05 = df[(df.test_number == 5)]\n",
    "df_exp_05 = df_exp_05[['split_layer','total_time','head_time','network_time','tail_time','nw_payload']]\n"
   ],
   "outputs": [],
   "metadata": {}
  },
  {
   "cell_type": "code",
   "execution_count": null,
   "source": [
    "df_plot = df_exp_05[['split_layer','total_time','head_time','network_time','tail_time']]\n",
    "df_plot.split_layer = df_plot.split_layer.astype(int)\n",
    "# print(plot)\n",
    "plot = df_plot.plot(kind='bar',x='split_layer', figsize=(12,8), xlabel='split layer position')\n",
    "fig = plot.get_figure()\n",
    "fig.savefig(folder + \"exp_05_time.png\")"
   ],
   "outputs": [],
   "metadata": {}
  },
  {
   "cell_type": "code",
   "execution_count": null,
   "source": [
    "df_plot = df_exp_05[['split_layer','nw_payload']]\n",
    "df_plot = df_plot.rename(columns={\"nw_payload\": \"Network payload\"})\n",
    "df_plot.split_layer = df_plot.split_layer.astype(int)\n",
    "# print(plot)\n",
    "plot = df_plot.plot(kind='bar',x='split_layer', figsize=(12,8), xlabel='split layer position', ylabel= 'network payload in MB')\n",
    "fig = plot.get_figure()\n",
    "fig.savefig(folder + \"exp_05_nw_payload.png\")"
   ],
   "outputs": [],
   "metadata": {}
  },
  {
   "cell_type": "code",
   "execution_count": null,
   "source": [
    "df_exp_06 = df[(df.test_number == 6)]\n",
    "df_exp_06 = df_exp_06[['split_layer','total_time','head_time','network_time','tail_time','nw_payload']]"
   ],
   "outputs": [],
   "metadata": {}
  },
  {
   "cell_type": "code",
   "execution_count": null,
   "source": [
    "df_plot = df_exp_06[['split_layer','total_time','head_time','network_time','tail_time']]\n",
    "df_plot.split_layer = df_plot.split_layer.astype(int)\n",
    "plot = df_plot.plot(kind='bar',x='split_layer', figsize=(12,8), xlabel='split layer position')\n",
    "fig = plot.get_figure()\n",
    "fig.savefig(folder + \"exp_06_time.png\")"
   ],
   "outputs": [],
   "metadata": {}
  },
  {
   "cell_type": "code",
   "execution_count": null,
   "source": [
    "df_plot = df_exp_06[['split_layer','nw_payload']]\n",
    "df_plot = df_plot.rename(columns={\"nw_payload\": \"Network payload\"})\n",
    "df_plot.split_layer = df_plot.split_layer.astype(int)\n",
    "# print(plot)\n",
    "plot = df_plot.plot(kind='bar',x='split_layer', figsize=(12,8), xlabel='split layer position', ylabel= 'network payload in MB')\n",
    "fig = plot.get_figure()\n",
    "fig.savefig(folder + \"exp_06_nw_payload.png\")"
   ],
   "outputs": [],
   "metadata": {}
  },
  {
   "cell_type": "code",
   "execution_count": null,
   "source": [
    "folderList = ['1mbps', '3mbps', '5mbps', '5mbps_1', '5mbps_subset_no_7_8', '7mbps_1']\n",
    "for folder in folderList:\n",
    "    results = folder + '/' + 'results.csv'\n",
    "    df = pd.read_csv(results)\n",
    "    df_exp_02 = df[df.test_number == 2]\n",
    "    print(\"%s %d\" %(folder, df_exp_02['nw_payload']))"
   ],
   "outputs": [],
   "metadata": {}
  },
  {
   "cell_type": "code",
   "execution_count": null,
   "source": [],
   "outputs": [],
   "metadata": {}
  },
  {
   "cell_type": "code",
   "execution_count": null,
   "source": [],
   "outputs": [],
   "metadata": {}
  }
 ],
 "metadata": {
  "accelerator": "GPU",
  "colab": {
   "collapsed_sections": [],
   "name": "cap_01.ipynb",
   "provenance": []
  },
  "interpreter": {
   "hash": "53d8a323e6010706682c07af791323eacfc072764aa514c33420848fded080be"
  },
  "kernelspec": {
   "name": "python3",
   "display_name": "Python 3.7.10 64-bit ('py373': conda)"
  },
  "language_info": {
   "codemirror_mode": {
    "name": "ipython",
    "version": 3
   },
   "file_extension": ".py",
   "mimetype": "text/x-python",
   "name": "python",
   "nbconvert_exporter": "python",
   "pygments_lexer": "ipython3",
   "version": "3.7.10"
  }
 },
 "nbformat": 4,
 "nbformat_minor": 1
}